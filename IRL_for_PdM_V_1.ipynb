{
 "cells": [
  {
   "cell_type": "markdown",
   "metadata": {},
   "source": [
    "# IRL for PdN\n",
    "- V.1.0 - 4-Aug-2024"
   ]
  },
  {
   "cell_type": "code",
   "execution_count": 1,
   "metadata": {},
   "outputs": [],
   "source": [
    "import warnings\n",
    "from tqdm import tqdm # Progress bar\n",
    "from datetime import datetime\n",
    "warnings.filterwarnings('ignore')\n",
    "\n",
    "# General libraries\n",
    "import pandas as pd\n",
    "import numpy as np\n",
    "import matplotlib.pyplot as plt\n",
    "from matplotlib.pyplot import figure\n",
    "\n",
    "# RL libraries\n",
    "import gymnasium as gym\n",
    "from stable_baselines3.common.env_checker import check_env\n",
    "from stable_baselines3.common.evaluation import evaluate_policy\n",
    "from stable_baselines3 import PPO, A2C\n",
    "from stable_baselines3.ppo import MlpPolicy\n",
    "from torch.utils.tensorboard import SummaryWriter\n",
    "\n",
    "# CH-AI Imitation libraries\n",
    "from imitation.util.util import make_vec_env\n",
    "from imitation.data import rollout\n",
    "from imitation.data.wrappers import RolloutInfoWrapper\n",
    "# Custom libraries\n",
    "from MT_environment import MillingTool_Env\n",
    "from utilities import downsample, tool_wear_data"
   ]
  },
  {
   "cell_type": "code",
   "execution_count": 2,
   "metadata": {},
   "outputs": [
    {
     "name": "stdout",
     "output_type": "stream",
     "text": [
      "Tensorboard logging to D:/ResearchLab/IRL/IRL_for_PdM/tensorboard/\n"
     ]
    }
   ],
   "source": [
    "DATA_FILE = 'PHM_C01.csv'\n",
    "WEAR_THRESHOLD = 0.12\n",
    "SAMPLING_RATE = 20\n",
    "ADD_NOISE = 0\n",
    "\n",
    "EPISODES = 10_000\n",
    "LOG_PATH = 'D:/ResearchLab/IRL/IRL_for_PdM/tensorboard/'\n",
    "# LOG_PATH = f'{PATH}/tensorboard/{now.strftime(\"%d-%b-%Y_%H_%M\")}/'\n",
    "writer = SummaryWriter(LOG_PATH)\n",
    "print(f'Tensorboard logging to {LOG_PATH}')"
   ]
  },
  {
   "cell_type": "code",
   "execution_count": 3,
   "metadata": {
    "scrolled": true
   },
   "outputs": [
    {
     "name": "stdout",
     "output_type": "stream",
     "text": [
      "- Down-sampling. Input data records: 1000. Sampling rate: 20. Expected rows 50.    Down-sampled to 50 rows.\n"
     ]
    },
    {
     "data": {
      "image/png": "[encoded data removed]",
      "text/plain": [
       "<Figure size 1000x250 with 1 Axes>"
      ]
     },
     "metadata": {},
     "output_type": "display_data"
    },
    {
     "name": "stdout",
     "output_type": "stream",
     "text": [
      "Tool failure RUL threshold at time 47 is 0.049\n"
     ]
    }
   ],
   "source": [
    "tool_wear, action_code, WEAR_THRESHOLD_NORMALIZED, df_train = tool_wear_data(\n",
    "    data_file=DATA_FILE, wear_threshold = WEAR_THRESHOLD,\n",
    "    normalize=True, add_noise=ADD_NOISE, sampling_rate = SAMPLING_RATE)\n",
    "\n",
    "records = len(df_train.index)\n",
    "MILLING_OPERATIONS_MAX = records\n",
    "\n",
    "rul_threshold_record = int(0.95 * records)\n",
    "rul_threshold = df_train.loc[df_train.index[rul_threshold_record], 'RUL']\n",
    "print(f'Tool failure RUL threshold at time {rul_threshold_record} is {rul_threshold:3.3f}')"
   ]
  },
  {
   "cell_type": "code",
   "execution_count": 4,
   "metadata": {},
   "outputs": [
    {
     "name": "stdout",
     "output_type": "stream",
     "text": [
      "\n",
      " -- Milling tool environment initiatlized. Potential records 50. RUL threshold 0.049\n"
     ]
    }
   ],
   "source": [
    "from stable_baselines3.common.env_checker import check_env\n",
    "\n",
    "gym.register(\n",
    "    id = 'custom/MillingToolEnv-v0',\n",
    "    entry_point = MillingTool_Env,\n",
    "    max_episode_steps = MILLING_OPERATIONS_MAX,\n",
    ")\n",
    "\n",
    "env_test = gym.make('custom/MillingToolEnv-v0', records=records, rul_threshold=rul_threshold)\n",
    "# Check env. formation \n",
    "check_env(env_test)"
   ]
  },
  {
   "cell_type": "code",
   "execution_count": 5,
   "metadata": {},
   "outputs": [
    {
     "name": "stdout",
     "output_type": "stream",
     "text": [
      "\n",
      " - Milling tool environment: Tool wear data updated: 50\n"
     ]
    }
   ],
   "source": [
    "env_test.tool_wear_data(df_train)"
   ]
  },
  {
   "cell_type": "code",
   "execution_count": 6,
   "metadata": {},
   "outputs": [
    {
     "name": "stdout",
     "output_type": "stream",
     "text": [
      "PPO Expert reward: 132.000\n"
     ]
    }
   ],
   "source": [
    "expert_ppo = PPO('MlpPolicy', env=env_test, tensorboard_log=LOG_PATH)\n",
    "expert_ppo.learn(EPISODES)"
   ]
  },
  {
   "cell_type": "code",
   "execution_count": 7,
   "metadata": {},
   "outputs": [
    {
     "name": "stdout",
     "output_type": "stream",
     "text": [
      "A2C Expert reward: 170.000\n"
     ]
    }
   ],
   "source": [
    "expert_a2c = A2C('MlpPolicy', env=env_test, tensorboard_log=LOG_PATH)\n",
    "expert_a2c.learn(EPISODES)"
   ]
  },
  {
   "cell_type": "code",
   "execution_count": 10,
   "metadata": {},
   "outputs": [
    {
     "name": "stdout",
     "output_type": "stream",
     "text": [
      "PPO Expert reward: 127.50\n",
      "A2C Expert reward: 106.49\n"
     ]
    }
   ],
   "source": [
    "reward_ppo, _ = evaluate_policy(expert_ppo, env_test, 20)\n",
    "print(f'PPO Expert reward: {reward_ppo:4.2f}')\n",
    "\n",
    "reward_a2c, _ = evaluate_policy(expert_a2c, env_test, 20)\n",
    "print(f'A2C Expert reward: {reward_a2c:4.2f}')"
   ]
  },
  {
   "cell_type": "code",
   "execution_count": null,
   "metadata": {},
   "outputs": [],
   "source": []
  }
 ],
 "metadata": {
  "interpreter": {
   "hash": "bd378ce8f53beae712f05342da42c6a7612fc68b19bea03b52c7b1cdc8851b5f"
  },
  "kernelspec": {
   "display_name": "Python 3 (ipykernel)",
   "language": "python",
   "name": "python3"
  },
  "language_info": {
   "codemirror_mode": {
    "name": "ipython",
    "version": 3
   },
   "file_extension": ".py",
   "mimetype": "text/x-python",
   "name": "python",
   "nbconvert_exporter": "python",
   "pygments_lexer": "ipython3",
   "version": "3.10.11"
  }
 },
 "nbformat": 4,
 "nbformat_minor": 4
}
