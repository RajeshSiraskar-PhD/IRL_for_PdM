{
 "cells": [
  {
   "cell_type": "markdown",
   "metadata": {
    "editable": true,
    "slideshow": {
     "slide_type": ""
    },
    "tags": []
   },
   "source": [
    "# IRL for PdM\n",
    "- V.1.0 04-Aug-2024: First version\n",
    "- V.2.0 07-Aug-2024: New milling env.: Drop Time observation. All force and vibration axes (x, y, z) "
   ]
  },
  {
   "cell_type": "code",
   "execution_count": 2,
   "metadata": {},
   "outputs": [],
   "source": [
    "import warnings\n",
    "from tqdm import tqdm # Progress bar\n",
    "from datetime import datetime\n",
    "warnings.filterwarnings('ignore')\n",
    "\n",
    "# General libraries\n",
    "import pandas as pd\n",
    "import numpy as np\n",
    "import matplotlib.pyplot as plt\n",
    "from matplotlib.pyplot import figure\n",
    "\n",
    "# RL libraries\n",
    "import gymnasium as gym\n",
    "from stable_baselines3.common.env_checker import check_env\n",
    "from stable_baselines3.common.evaluation import evaluate_policy\n",
    "from stable_baselines3 import PPO, A2C\n",
    "from stable_baselines3.ppo import MlpPolicy\n",
    "from torch.utils.tensorboard import SummaryWriter\n",
    "\n",
    "# CH-AI Imitation libraries\n",
    "from imitation.util.util import make_vec_env\n",
    "from imitation.data import rollout, serialize\n",
    "from imitation.data.wrappers import RolloutInfoWrapper\n",
    "# Custom libraries\n",
    "from MT_environment import MillingTool_Env\n",
    "from utilities import downsample, tool_wear_data"
   ]
  },
  {
   "cell_type": "code",
   "execution_count": 16,
   "metadata": {},
   "outputs": [
    {
     "name": "stdout",
     "output_type": "stream",
     "text": [
      "Tensorboard logging to D:/ResearchLab/IRL/IRL_for_PdM/tensorboard/\n"
     ]
    }
   ],
   "source": [
    "DATA_FILE = 'PHM_C01.csv'\n",
    "WEAR_THRESHOLD = 0.12\n",
    "SAMPLING_RATE = 1\n",
    "ADD_NOISE = 0\n",
    "\n",
    "EPISODES = 4_000\n",
    "BATCH_SIZE = 16\n",
    "SAMPLE_DEMONSTRATIONS = 100\n",
    "EVALUATION_ROUNDS = 20\n",
    "TENSOR_BOARD = True\n",
    "\n",
    "PRETRAINED_MODEL = True # If True load model. If False save as model_file \n",
    "SAVED_DEMONSTRATIONS = True # If True load saved demonstrations. If False save them\n",
    "MODEL_FILE = 'Expert_Model_PPO'\n",
    "PATH = 'D:/ResearchLab/IRL/IRL_for_PdM/'\n",
    "LOG_PATH = 'D:/ResearchLab/IRL/IRL_for_PdM/tensorboard/'\n",
    "# LOG_PATH = f'{PATH}/tensorboard/{now.strftime(\"%d-%b-%Y_%H_%M\")}/'\n",
    "\n",
    "writer = SummaryWriter(LOG_PATH) if TENSOR_BOARD else None \n",
    "print(f'Tensorboard logging to {LOG_PATH}')"
   ]
  },
  {
   "cell_type": "code",
   "execution_count": 4,
   "metadata": {
    "scrolled": true
   },
   "outputs": [
    {
     "name": "stdout",
     "output_type": "stream",
     "text": [
      "- Down-sampling. Input data records: 1000. Sampling rate: 1. Expected rows 1000.    Down-sampled to 1000 rows.\n"
     ]
    },
    {
     "data": {
      "image/png": "[encoded data removed]",
      "text/plain": [
       "<Figure size 1000x250 with 1 Axes>"
      ]
     },
     "metadata": {},
     "output_type": "display_data"
    },
    {
     "name": "stdout",
     "output_type": "stream",
     "text": [
      "Tool failure RUL threshold at time 950 is 0.050\n"
     ]
    }
   ],
   "source": [
    "tool_wear, action_code, WEAR_THRESHOLD_NORMALIZED, df_train = tool_wear_data(\n",
    "    data_file=DATA_FILE, wear_threshold = WEAR_THRESHOLD,\n",
    "    normalize=True, add_noise=ADD_NOISE, sampling_rate = SAMPLING_RATE)\n",
    "\n",
    "records = len(df_train.index)\n",
    "MILLING_OPERATIONS_MAX = records\n",
    "\n",
    "rul_threshold_record = int(0.95 * records)\n",
    "rul_threshold = df_train.loc[df_train.index[rul_threshold_record], 'RUL']\n",
    "print(f'Tool failure RUL threshold at time {rul_threshold_record} is {rul_threshold:3.3f}')"
   ]
  },
  {
   "cell_type": "markdown",
   "metadata": {},
   "source": [
    "## 1. Predictive maintenance environment"
   ]
  },
  {
   "cell_type": "code",
   "execution_count": 5,
   "metadata": {},
   "outputs": [
    {
     "name": "stdout",
     "output_type": "stream",
     "text": [
      "\n",
      " -- Milling tool environment initiatlized. Potential records 1000. RUL threshold 0.050\n"
     ]
    }
   ],
   "source": [
    "from stable_baselines3.common.env_checker import check_env\n",
    "\n",
    "gym.register(\n",
    "    id = 'custom/MillingToolEnv-v0',\n",
    "    entry_point = MillingTool_Env,\n",
    "    max_episode_steps = MILLING_OPERATIONS_MAX,\n",
    ")\n",
    "\n",
    "mt_env = gym.make('custom/MillingToolEnv-v0', records=records, rul_threshold=rul_threshold)\n",
    "# Check env. formation \n",
    "check_env(mt_env)"
   ]
  },
  {
   "cell_type": "code",
   "execution_count": 6,
   "metadata": {},
   "outputs": [
    {
     "name": "stdout",
     "output_type": "stream",
     "text": [
      "\n",
      " - Milling tool environment: Tool wear data updated: 1000\n"
     ]
    }
   ],
   "source": [
    "mt_env.tool_wear_data(df_train)"
   ]
  },
  {
   "cell_type": "markdown",
   "metadata": {},
   "source": [
    "## 2. The \"Human\" Expert"
   ]
  },
  {
   "cell_type": "code",
   "execution_count": 7,
   "metadata": {},
   "outputs": [
    {
     "name": "stdout",
     "output_type": "stream",
     "text": [
      "- Loading pre-tranined Expert model from Expert_Model_PPO\n"
     ]
    }
   ],
   "source": [
    "if TENSOR_BOARD:\n",
    "    expert_ppo = PPO('MlpPolicy', env=mt_env, tensorboard_log=LOG_PATH)\n",
    "else:\n",
    "    expert_ppo = PPO('MlpPolicy', env=mt_env)\n",
    "\n",
    "if not PRETRAINED_MODEL:\n",
    "    print(f'- Training a *NEW* Expert model...')\n",
    "    expert_ppo.learn(EPISODES)\n",
    "    print(f'- Saving Expert model in {MODEL_FILE}')\n",
    "    expert_ppo.save(MODEL_FILE)\n",
    "else:\n",
    "    print(f'- Loading pre-tranined Expert model from {MODEL_FILE}')\n",
    "    expert_ppo = PPO.load(MODEL_FILE)"
   ]
  },
  {
   "cell_type": "code",
   "execution_count": 8,
   "metadata": {},
   "outputs": [],
   "source": [
    "# if TENSOR_BOARD:\n",
    "#     expert_a2c = A2C('MlpPolicy', env=mt_env, tensorboard_log=LOG_PATH)\n",
    "# else:\n",
    "#     expert_a2c = A2C('MlpPolicy', env=mt_env)\n",
    "\n",
    "# expert_a2c.learn(EPISODES)"
   ]
  },
  {
   "cell_type": "code",
   "execution_count": 9,
   "metadata": {},
   "outputs": [
    {
     "name": "stdout",
     "output_type": "stream",
     "text": [
      "PPO Expert reward: 4176.70\n"
     ]
    }
   ],
   "source": [
    "reward_ppo, _ = evaluate_policy(expert_ppo, mt_env, 5)\n",
    "print(f'PPO Expert reward: {reward_ppo:4.2f}')\n",
    "\n",
    "# reward_a2c, _ = evaluate_policy(expert_a2c, mt_env, 20)\n",
    "# print(f'A2C Expert reward: {reward_a2c:4.2f}')"
   ]
  },
  {
   "cell_type": "markdown",
   "metadata": {},
   "source": [
    "## 3. Train the student by applying IRL - using expert demonstrations\n",
    "\n",
    "- Use the expert to sample some trajectories.\n",
    "- Flatten them to obtain individual transitions for behavior cloning\n",
    "\n",
    "#### Implementation details: \n",
    "- Use `imitation` utilities - Collect 50 episode rollouts, then flatten them to just the transitions that we need for training.\n",
    "- `rollout` function requires a vectorized environment and needs the `RolloutInfoWrapper` around each of the environments\n",
    "- This is why we passed the `post_wrappers` argument to `make_vec_env` above."
   ]
  },
  {
   "cell_type": "code",
   "execution_count": 10,
   "metadata": {},
   "outputs": [
    {
     "name": "stdout",
     "output_type": "stream",
     "text": [
      "\n",
      " -- Milling tool environment initiatlized. Potential records 0. RUL threshold 0.000\n",
      "\n",
      " -- Milling tool environment initiatlized. Potential records 1000. RUL threshold 0.050\n"
     ]
    }
   ],
   "source": [
    "# Vectorized environment: Use the `make_vec_env` helper function - make sure to pass `post_wrappers=[lambda env, _: RolloutInfoWrapper(env)]`\n",
    "env_kwargs = {'records':records, 'rul_threshold':rul_threshold}\n",
    "\n",
    "mt_venv = make_vec_env(\n",
    "    'custom/MillingToolEnv-v0',\n",
    "    env_make_kwargs=env_kwargs,\n",
    "    rng=np.random.default_rng(),\n",
    "    n_envs=1,\n",
    "    post_wrappers=[lambda mt_venv, _: RolloutInfoWrapper(mt_venv)],\n",
    ")"
   ]
  },
  {
   "cell_type": "markdown",
   "metadata": {},
   "source": [
    "### Add tool wear data\n",
    "- IMPORTANT -- note how a vectorized env. methd is called\n",
    "- NOT like this >>  mt_venv.tool_wear_data(df_train)"
   ]
  },
  {
   "cell_type": "code",
   "execution_count": 11,
   "metadata": {},
   "outputs": [
    {
     "name": "stdout",
     "output_type": "stream",
     "text": [
      "\n",
      " - Milling tool environment: Tool wear data updated: 1000\n"
     ]
    },
    {
     "data": {
      "text/plain": [
       "[None]"
      ]
     },
     "execution_count": 11,
     "metadata": {},
     "output_type": "execute_result"
    }
   ],
   "source": [
    "# Add tool wear data\n",
    "# IMPORTANT -- note how a vectorized env. methd is called\n",
    "# NOT like this >>  mt_venv.tool_wear_data(df_train)\n",
    "mt_venv.env_method('tool_wear_data', df_train)"
   ]
  },
  {
   "cell_type": "code",
   "execution_count": 12,
   "metadata": {},
   "outputs": [],
   "source": [
    "# if SAVED_DEMONSTRATIONS:\n",
    "#     print('Save these demonstrations')\n",
    "#     serialize.save('Trajectories\\', demonstrations)\n",
    "# else: \n",
    "    \n",
    "rng = np.random.default_rng()\n",
    "\n",
    "rollouts = rollout.rollout(\n",
    "    expert_ppo,\n",
    "    mt_venv,\n",
    "    rollout.make_sample_until(min_timesteps=None, min_episodes=SAMPLE_DEMONSTRATIONS),\n",
    "    rng = rng,\n",
    ")\n",
    "\n",
    "demonstrations = rollout.flatten_trajectories(rollouts)"
   ]
  },
  {
   "cell_type": "code",
   "execution_count": 13,
   "metadata": {},
   "outputs": [
    {
     "data": {
      "text/plain": [
       "[<matplotlib.lines.Line2D at 0x1e5c2b189a0>,\n",
       " <matplotlib.lines.Line2D at 0x1e5c2b18a00>,\n",
       " <matplotlib.lines.Line2D at 0x1e5c2b18a30>,\n",
       " <matplotlib.lines.Line2D at 0x1e5c2b18b20>,\n",
       " <matplotlib.lines.Line2D at 0x1e5c2b18c10>,\n",
       " <matplotlib.lines.Line2D at 0x1e5c2b18d00>]"
      ]
     },
     "execution_count": 13,
     "metadata": {},
     "output_type": "execute_result"
    },
    {
     "data": {
      "image/png": "[encoded data removed]",
      "text/plain": [
       "<Figure size 800x200 with 1 Axes>"
      ]
     },
     "metadata": {},
     "output_type": "display_data"
    },
    {
     "data": {
      "image/png": "[encoded data removed]",
      "text/plain": [
       "<Figure size 800x200 with 1 Axes>"
      ]
     },
     "metadata": {},
     "output_type": "display_data"
    }
   ],
   "source": [
    "obsvs = []\n",
    "acts = []\n",
    "\n",
    "for n in range(len(rollouts)):\n",
    "    acts.append(demonstrations.acts[n])\n",
    "    obsvs.append(demonstrations.obs[n])\n",
    "\n",
    "plt.figure(figsize=(8, 2))\n",
    "plt.title('Expert Actions')\n",
    "plt.plot(acts)\n",
    "\n",
    "plt.figure(figsize=(8, 2))\n",
    "plt.title('Sampled Observations')\n",
    "plt.plot(obsvs)"
   ]
  },
  {
   "cell_type": "markdown",
   "metadata": {},
   "source": [
    "## 3.2 Set up IRL algorithm\n",
    "- Set up our behavior cloning algorithm\n",
    "- Compute rewards before showing expert demonstrations"
   ]
  },
  {
   "cell_type": "code",
   "execution_count": 17,
   "metadata": {},
   "outputs": [],
   "source": [
    "from imitation.algorithms import bc\n",
    "from imitation.util import logger as imit_logger\n",
    "\n",
    "if TENSOR_BOARD:\n",
    "    # Set new logger\n",
    "    tmp_path_irl = f'{PATH}/tensorboard/irl_log/BC/'\n",
    "    new_logger_irl = imit_logger.configure(tmp_path_irl, [\"stdout\", \"csv\", \"tensorboard\"])\n",
    "\n",
    "    bc_trainer = bc.BC(\n",
    "        observation_space=mt_venv.observation_space,\n",
    "        action_space=mt_venv.action_space,\n",
    "        demonstrations=demonstrations,\n",
    "        batch_size=BATCH_SIZE,\n",
    "        rng=rng,\n",
    "        device='cpu',\n",
    "        custom_logger = new_logger_irl)\n",
    "else:\n",
    "    bc_trainer = bc.BC(\n",
    "        observation_space=mt_venv.observation_space,\n",
    "        action_space=mt_venv.action_space,\n",
    "        demonstrations=demonstrations,\n",
    "        batch_size=BATCH_SIZE,\n",
    "        rng=rng,\n",
    "        device='cpu')"
   ]
  },
  {
   "cell_type": "code",
   "execution_count": 18,
   "metadata": {},
   "outputs": [
    {
     "name": "stdout",
     "output_type": "stream",
     "text": [
      "Reward before training:  271.922\n"
     ]
    }
   ],
   "source": [
    "reward_before_training, _ = evaluate_policy(bc_trainer.policy, mt_venv, EVALUATION_ROUNDS)\n",
    "print(f\"Reward before training: {reward_before_training: 4.3f}\")"
   ]
  },
  {
   "cell_type": "markdown",
   "metadata": {},
   "source": [
    "## 3.3 Apply IRL - BC algo.\n",
    "- Use expert demonstrations and learn the reward function - using Behavior Cloning algorithm\r",
    "- \n",
    "Compute reward and compares befor/aftere showing expert demonstrations"
   ]
  },
  {
   "cell_type": "code",
   "execution_count": 19,
   "metadata": {},
   "outputs": [
    {
     "name": "stderr",
     "output_type": "stream",
     "text": [
      "0batch [00:00, ?batch/s]"
     ]
    },
    {
     "name": "stdout",
     "output_type": "stream",
     "text": [
      "---------------------------------\n",
      "| batch_size        | 16        |\n",
      "| bc/               |           |\n",
      "|    batch          | 0         |\n",
      "|    ent_loss       | -0.000693 |\n",
      "|    entropy        | 0.693     |\n",
      "|    epoch          | 0         |\n",
      "|    l2_loss        | 0         |\n",
      "|    l2_norm        | 76.5      |\n",
      "|    loss           | 0.693     |\n",
      "|    neglogp        | 0.693     |\n",
      "|    prob_true_act  | 0.5       |\n",
      "|    samples_so_far | 16        |\n",
      "---------------------------------\n"
     ]
    },
    {
     "name": "stderr",
     "output_type": "stream",
     "text": [
      "491batch [00:01, 339.63batch/s]"
     ]
    },
    {
     "name": "stdout",
     "output_type": "stream",
     "text": [
      "---------------------------------\n",
      "| batch_size        | 16        |\n",
      "| bc/               |           |\n",
      "|    batch          | 500       |\n",
      "|    ent_loss       | -0.000599 |\n",
      "|    entropy        | 0.599     |\n",
      "|    epoch          | 0         |\n",
      "|    l2_loss        | 0         |\n",
      "|    l2_norm        | 77.4      |\n",
      "|    loss           | 0.506     |\n",
      "|    neglogp        | 0.507     |\n",
      "|    prob_true_act  | 0.634     |\n",
      "|    samples_so_far | 8016      |\n",
      "---------------------------------\n"
     ]
    },
    {
     "name": "stderr",
     "output_type": "stream",
     "text": [
      "973batch [00:02, 348.55batch/s]"
     ]
    },
    {
     "name": "stdout",
     "output_type": "stream",
     "text": [
      "---------------------------------\n",
      "| batch_size        | 16        |\n",
      "| bc/               |           |\n",
      "|    batch          | 1000      |\n",
      "|    ent_loss       | -0.000608 |\n",
      "|    entropy        | 0.608     |\n",
      "|    epoch          | 0         |\n",
      "|    l2_loss        | 0         |\n",
      "|    l2_norm        | 77.2      |\n",
      "|    loss           | 0.673     |\n",
      "|    neglogp        | 0.674     |\n",
      "|    prob_true_act  | 0.552     |\n",
      "|    samples_so_far | 16016     |\n",
      "---------------------------------\n"
     ]
    },
    {
     "name": "stderr",
     "output_type": "stream",
     "text": [
      "1492batch [00:04, 334.27batch/s]"
     ]
    },
    {
     "name": "stdout",
     "output_type": "stream",
     "text": [
      "---------------------------------\n",
      "| batch_size        | 16        |\n",
      "| bc/               |           |\n",
      "|    batch          | 1500      |\n",
      "|    ent_loss       | -0.000608 |\n",
      "|    entropy        | 0.608     |\n",
      "|    epoch          | 0         |\n",
      "|    l2_loss        | 0         |\n",
      "|    l2_norm        | 77.3      |\n",
      "|    loss           | 0.72      |\n",
      "|    neglogp        | 0.72      |\n",
      "|    prob_true_act  | 0.529     |\n",
      "|    samples_so_far | 24016     |\n",
      "---------------------------------\n"
     ]
    },
    {
     "name": "stderr",
     "output_type": "stream",
     "text": [
      "1972batch [00:05, 361.84batch/s]"
     ]
    },
    {
     "name": "stdout",
     "output_type": "stream",
     "text": [
      "---------------------------------\n",
      "| batch_size        | 16        |\n",
      "| bc/               |           |\n",
      "|    batch          | 2000      |\n",
      "|    ent_loss       | -0.000622 |\n",
      "|    entropy        | 0.622     |\n",
      "|    epoch          | 0         |\n",
      "|    l2_loss        | 0         |\n",
      "|    l2_norm        | 77        |\n",
      "|    loss           | 0.569     |\n",
      "|    neglogp        | 0.569     |\n",
      "|    prob_true_act  | 0.594     |\n",
      "|    samples_so_far | 32016     |\n",
      "---------------------------------\n"
     ]
    },
    {
     "name": "stderr",
     "output_type": "stream",
     "text": [
      "2472batch [00:07, 357.34batch/s]"
     ]
    },
    {
     "name": "stdout",
     "output_type": "stream",
     "text": [
      "---------------------------------\n",
      "| batch_size        | 16        |\n",
      "| bc/               |           |\n",
      "|    batch          | 2500      |\n",
      "|    ent_loss       | -0.000624 |\n",
      "|    entropy        | 0.624     |\n",
      "|    epoch          | 0         |\n",
      "|    l2_loss        | 0         |\n",
      "|    l2_norm        | 76.8      |\n",
      "|    loss           | 0.479     |\n",
      "|    neglogp        | 0.48      |\n",
      "|    prob_true_act  | 0.637     |\n",
      "|    samples_so_far | 40016     |\n",
      "---------------------------------\n"
     ]
    },
    {
     "name": "stderr",
     "output_type": "stream",
     "text": [
      "2974batch [00:08, 381.16batch/s]"
     ]
    },
    {
     "name": "stdout",
     "output_type": "stream",
     "text": [
      "---------------------------------\n",
      "| batch_size        | 16        |\n",
      "| bc/               |           |\n",
      "|    batch          | 3000      |\n",
      "|    ent_loss       | -0.000634 |\n",
      "|    entropy        | 0.634     |\n",
      "|    epoch          | 0         |\n",
      "|    l2_loss        | 0         |\n",
      "|    l2_norm        | 76.7      |\n",
      "|    loss           | 0.618     |\n",
      "|    neglogp        | 0.619     |\n",
      "|    prob_true_act  | 0.565     |\n",
      "|    samples_so_far | 48016     |\n",
      "---------------------------------\n"
     ]
    },
    {
     "name": "stderr",
     "output_type": "stream",
     "text": [
      "3499batch [00:10, 361.17batch/s]"
     ]
    },
    {
     "name": "stdout",
     "output_type": "stream",
     "text": [
      "---------------------------------\n",
      "| batch_size        | 16        |\n",
      "| bc/               |           |\n",
      "|    batch          | 3500      |\n",
      "|    ent_loss       | -0.000599 |\n",
      "|    entropy        | 0.599     |\n",
      "|    epoch          | 0         |\n",
      "|    l2_loss        | 0         |\n",
      "|    l2_norm        | 76.9      |\n",
      "|    loss           | 0.677     |\n",
      "|    neglogp        | 0.678     |\n",
      "|    prob_true_act  | 0.554     |\n",
      "|    samples_so_far | 56016     |\n",
      "---------------------------------\n"
     ]
    },
    {
     "name": "stderr",
     "output_type": "stream",
     "text": [
      "3982batch [00:11, 344.50batch/s]"
     ]
    },
    {
     "name": "stdout",
     "output_type": "stream",
     "text": [
      "---------------------------------\n",
      "| batch_size        | 16        |\n",
      "| bc/               |           |\n",
      "|    batch          | 4000      |\n",
      "|    ent_loss       | -0.000638 |\n",
      "|    entropy        | 0.638     |\n",
      "|    epoch          | 0         |\n",
      "|    l2_loss        | 0         |\n",
      "|    l2_norm        | 76.4      |\n",
      "|    loss           | 0.8       |\n",
      "|    neglogp        | 0.801     |\n",
      "|    prob_true_act  | 0.476     |\n",
      "|    samples_so_far | 64016     |\n",
      "---------------------------------\n"
     ]
    },
    {
     "name": "stderr",
     "output_type": "stream",
     "text": [
      "4488batch [00:13, 365.12batch/s]"
     ]
    },
    {
     "name": "stdout",
     "output_type": "stream",
     "text": [
      "---------------------------------\n",
      "| batch_size        | 16        |\n",
      "| bc/               |           |\n",
      "|    batch          | 4500      |\n",
      "|    ent_loss       | -0.000634 |\n",
      "|    entropy        | 0.634     |\n",
      "|    epoch          | 0         |\n",
      "|    l2_loss        | 0         |\n",
      "|    l2_norm        | 76.4      |\n",
      "|    loss           | 0.578     |\n",
      "|    neglogp        | 0.579     |\n",
      "|    prob_true_act  | 0.585     |\n",
      "|    samples_so_far | 72016     |\n",
      "---------------------------------\n"
     ]
    },
    {
     "name": "stderr",
     "output_type": "stream",
     "text": [
      "4983batch [00:14, 345.50batch/s]"
     ]
    },
    {
     "name": "stdout",
     "output_type": "stream",
     "text": [
      "--------------------------------\n",
      "| batch_size        | 16       |\n",
      "| bc/               |          |\n",
      "|    batch          | 5000     |\n",
      "|    ent_loss       | -0.00062 |\n",
      "|    entropy        | 0.62     |\n",
      "|    epoch          | 0        |\n",
      "|    l2_loss        | 0        |\n",
      "|    l2_norm        | 76.2     |\n",
      "|    loss           | 0.57     |\n",
      "|    neglogp        | 0.571    |\n",
      "|    prob_true_act  | 0.595    |\n",
      "|    samples_so_far | 80016    |\n",
      "--------------------------------\n"
     ]
    },
    {
     "name": "stderr",
     "output_type": "stream",
     "text": [
      "5481batch [00:15, 356.16batch/s]"
     ]
    },
    {
     "name": "stdout",
     "output_type": "stream",
     "text": [
      "---------------------------------\n",
      "| batch_size        | 16        |\n",
      "| bc/               |           |\n",
      "|    batch          | 5500      |\n",
      "|    ent_loss       | -0.000638 |\n",
      "|    entropy        | 0.638     |\n",
      "|    epoch          | 0         |\n",
      "|    l2_loss        | 0         |\n",
      "|    l2_norm        | 75.9      |\n",
      "|    loss           | 0.539     |\n",
      "|    neglogp        | 0.54      |\n",
      "|    prob_true_act  | 0.601     |\n",
      "|    samples_so_far | 88016     |\n",
      "---------------------------------\n"
     ]
    },
    {
     "name": "stderr",
     "output_type": "stream",
     "text": [
      "5627batch [00:16, 350.47batch/s]\n",
      "5656batch [00:16, 344.77batch/s]\u001b[A\n"
     ]
    }
   ],
   "source": [
    "bc_trainer.train(n_epochs=1)"
   ]
  },
  {
   "cell_type": "code",
   "execution_count": 20,
   "metadata": {},
   "outputs": [
    {
     "name": "stdout",
     "output_type": "stream",
     "text": [
      "------------------------------------------------------------------------------------------------------------------------\n",
      " **** IRL with Imitation Libraries and Milling environment ****\n",
      "------------------------------------------------------------------------------------------------------------------------\n",
      "15-Aug-2024  21:08:18\n",
      "Episodes: 4000\n",
      "Expert performance:             4176.704\n",
      "Apprentice performance: Before: 271.922\n",
      "                        After:  4178.979\n"
     ]
    }
   ],
   "source": [
    "now = datetime.now()\n",
    "dt_string = now.strftime(\"%d-%b-%Y  %H:%M:%S\")\n",
    "reward_after_training, _ = evaluate_policy(bc_trainer.policy, mt_venv, EVALUATION_ROUNDS)\n",
    "\n",
    "print('-'*120)\n",
    "print(' **** IRL with Imitation Libraries and Milling environment ****')\n",
    "print('-'*120)\n",
    "\n",
    "print(dt_string)\n",
    "print(f'Episodes: {EPISODES}')\n",
    "print(f'Expert performance:             {reward_ppo:5.3f}')\n",
    "print(f'Apprentice performance: Before: {reward_before_training:5.3f}')\n",
    "print(f'                        After:  {reward_after_training:5.3f}')\n",
    "# print(f'Training time: {elapsed_time:5.3f} seconds')"
   ]
  },
  {
   "cell_type": "markdown",
   "metadata": {},
   "source": [
    "## Results\n",
    "```\n",
    "-------------------------------------------------------------------------------------\n",
    "| Date-time             | Episodes | Expert   | Apprentice-before |Apprentice-after |\n",
    "-------------------------------------------------------------------------------------\n",
    "| 07-Aug-2024  20:51:01 | 4000     | 4176.156 | 147.070           | 4180.070        |\n",
    "| 07-Aug-2024  21:53:24 |  400     | 4176.033 | 536.258           | 4174.686        |\n",
    "| 07-Aug-2024  21:53:24 | 4000     | 4176.033 | 536.258           | 4174.686        |\n",
    "0\n",
    "```"
   ]
  },
  {
   "cell_type": "markdown",
   "metadata": {},
   "source": [
    "## 3.3.b Apply IRL - SQIL algo.\n",
    "- Use expert demonstrations and learn the reward function - using ## 3.3 Apply IRL (BC)\n",
    "- Use expert demonstrations and learn the reward function - using Behavior Cloning algorithm\n",
    "- Compute rewards and compare before/after showing expert demonstrations algorithm\n",
    "- Compute rewards and compare before/after showing expert demonstrations"
   ]
  },
  {
   "cell_type": "code",
   "execution_count": 26,
   "metadata": {},
   "outputs": [
    {
     "name": "stdout",
     "output_type": "stream",
     "text": [
      "C:\\Users\\Rajesh\\AppData\\Local\\Temp\\dagger_example_swyi9yt_\n"
     ]
    },
    {
     "name": "stderr",
     "output_type": "stream",
     "text": [
      "Saving the dataset (1/1 shards): 100%|████████████████████████████████████████████| 1/1 [00:00<00:00, 50.74 examples/s]\n",
      "Saving the dataset (1/1 shards): 100%|███████████████████████████████████████████| 1/1 [00:00<00:00, 200.42 examples/s]\n",
      "Saving the dataset (1/1 shards): 100%|███████████████████████████████████████████| 1/1 [00:00<00:00, 195.49 examples/s]\n",
      "0batch [00:00, ?batch/s]"
     ]
    },
    {
     "name": "stdout",
     "output_type": "stream",
     "text": [
      "---------------------------------\n",
      "| batch_size        | 16        |\n",
      "| bc/               |           |\n",
      "|    batch          | 0         |\n",
      "|    ent_loss       | -0.000608 |\n",
      "|    entropy        | 0.608     |\n",
      "|    epoch          | 0         |\n",
      "|    l2_loss        | 0         |\n",
      "|    l2_norm        | 76.1      |\n",
      "|    loss           | 0.352     |\n",
      "|    neglogp        | 0.353     |\n",
      "|    prob_true_act  | 0.703     |\n",
      "|    samples_so_far | 16        |\n",
      "| rollout/          |           |\n",
      "|    return_max     | 2.95e+03  |\n",
      "|    return_mean    | 2.89e+03  |\n",
      "|    return_min     | 2.81e+03  |\n",
      "|    return_std     | 46.8      |\n",
      "---------------------------------\n"
     ]
    },
    {
     "name": "stderr",
     "output_type": "stream",
     "text": [
      "127batch [00:20, 12.99batch/s]\n",
      "324batch [00:21, 83.06batch/s]\u001b[A\n",
      "469batch [00:21, 195.08batch/s][A\n",
      "469batch [00:31, 195.08batch/s]\u001b[A"
     ]
    },
    {
     "name": "stdout",
     "output_type": "stream",
     "text": [
      "---------------------------------\n",
      "| batch_size        | 16        |\n",
      "| bc/               |           |\n",
      "|    batch          | 500       |\n",
      "|    ent_loss       | -4.54e-06 |\n",
      "|    entropy        | 0.00454   |\n",
      "|    epoch          | 3         |\n",
      "|    l2_loss        | 0         |\n",
      "|    l2_norm        | 84.6      |\n",
      "|    loss           | 0.000528  |\n",
      "|    neglogp        | 0.000533  |\n",
      "|    prob_true_act  | 0.999     |\n",
      "|    samples_so_far | 8016      |\n",
      "| rollout/          |           |\n",
      "|    return_max     | 4.19e+03  |\n",
      "|    return_mean    | 4.17e+03  |\n",
      "|    return_min     | 4.15e+03  |\n",
      "|    return_std     | 12.5      |\n",
      "---------------------------------\n"
     ]
    },
    {
     "name": "stderr",
     "output_type": "stream",
     "text": [
      "646batch [00:41, 23.79batch/s] \n",
      "664batch [00:41, 16.06batch/s]\u001b[A\n",
      "Saving the dataset (1/1 shards): 100%|███████████████████████████████████████████| 1/1 [00:00<00:00, 194.32 examples/s]\n",
      "Saving the dataset (1/1 shards): 100%|████████████████████████████████████████████████████| 1/1 [00:00<?, ? examples/s]\n",
      "Saving the dataset (1/1 shards): 100%|████████████████████████████████████████████████████| 1/1 [00:00<?, ? examples/s]\n",
      "0batch [00:00, ?batch/s]"
     ]
    },
    {
     "name": "stdout",
     "output_type": "stream",
     "text": [
      "---------------------------------\n",
      "| batch_size        | 16        |\n",
      "| bc/               |           |\n",
      "|    batch          | 0         |\n",
      "|    ent_loss       | -3.42e-06 |\n",
      "|    entropy        | 0.00342   |\n",
      "|    epoch          | 0         |\n",
      "|    l2_loss        | 0         |\n",
      "|    l2_norm        | 84.9      |\n",
      "|    loss           | 0.000383  |\n",
      "|    neglogp        | 0.000386  |\n",
      "|    prob_true_act  | 1         |\n",
      "|    samples_so_far | 16        |\n",
      "| rollout/          |           |\n",
      "|    return_max     | 4.19e+03  |\n",
      "|    return_mean    | 4.18e+03  |\n",
      "|    return_min     | 4.16e+03  |\n",
      "|    return_std     | 12.9      |\n",
      "---------------------------------\n"
     ]
    },
    {
     "name": "stderr",
     "output_type": "stream",
     "text": [
      "309batch [00:20, 85.52batch/s]\n",
      "468batch [00:34, 204.00batch/s][A"
     ]
    },
    {
     "name": "stdout",
     "output_type": "stream",
     "text": [
      "---------------------------------\n",
      "| batch_size        | 16        |\n",
      "| bc/               |           |\n",
      "|    batch          | 500       |\n",
      "|    ent_loss       | -1.83e-06 |\n",
      "|    entropy        | 0.00183   |\n",
      "|    epoch          | 1         |\n",
      "|    l2_loss        | 0         |\n",
      "|    l2_norm        | 85.6      |\n",
      "|    loss           | 0.00019   |\n",
      "|    neglogp        | 0.000192  |\n",
      "|    prob_true_act  | 1         |\n",
      "|    samples_so_far | 8016      |\n",
      "| rollout/          |           |\n",
      "|    return_max     | 4.19e+03  |\n",
      "|    return_mean    | 4.17e+03  |\n",
      "|    return_min     | 4.15e+03  |\n",
      "|    return_std     | 12.5      |\n",
      "---------------------------------\n"
     ]
    },
    {
     "name": "stderr",
     "output_type": "stream",
     "text": [
      "663batch [00:40, 26.79batch/s] \n",
      "997batch [00:41, 233.72batch/s][A\n",
      "997batch [00:54, 233.72batch/s]\u001b[A"
     ]
    },
    {
     "name": "stdout",
     "output_type": "stream",
     "text": [
      "---------------------------------\n",
      "| batch_size        | 16        |\n",
      "| bc/               |           |\n",
      "|    batch          | 1000      |\n",
      "|    ent_loss       | -1.17e-06 |\n",
      "|    entropy        | 0.00117   |\n",
      "|    epoch          | 3         |\n",
      "|    l2_loss        | 0         |\n",
      "|    l2_norm        | 86.2      |\n",
      "|    loss           | 0.000115  |\n",
      "|    neglogp        | 0.000116  |\n",
      "|    prob_true_act  | 1         |\n",
      "|    samples_so_far | 16016     |\n",
      "| rollout/          |           |\n",
      "|    return_max     | 4.19e+03  |\n",
      "|    return_mean    | 4.17e+03  |\n",
      "|    return_min     | 4.15e+03  |\n",
      "|    return_std     | 13.7      |\n",
      "---------------------------------\n"
     ]
    },
    {
     "name": "stderr",
     "output_type": "stream",
     "text": [
      "1322batch [01:01, 93.00batch/s]\n",
      "1332batch [01:01, 21.82batch/s]\u001b[A\n"
     ]
    }
   ],
   "source": [
    "import tempfile\n",
    "from imitation.algorithms.dagger import SimpleDAggerTrainer, DAggerTrainer\n",
    "from imitation.policies.serialize import load_policy\n",
    "\n",
    "if TENSOR_BOARD:\n",
    "    # Set new logger\n",
    "    tmp_path_irl = f'{PATH}/tensorboard/irl_log/DG/'\n",
    "    new_logger_irl = imit_logger.configure(tmp_path_irl, [\"stdout\", \"csv\", \"tensorboard\"])\n",
    "\n",
    "    with tempfile.TemporaryDirectory(prefix=\"dagger_example_\") as tmpdir:\n",
    "        print(tmpdir)\n",
    "        dagger_trainer = SimpleDAggerTrainer(\n",
    "            venv = mt_venv,\n",
    "            scratch_dir = tmpdir,\n",
    "            expert_policy = expert_ppo,\n",
    "            bc_trainer = bc_trainer,\n",
    "            rng=rng,\n",
    "            custom_logger = new_logger_irl,\n",
    "        )        \n",
    "else:\n",
    "    with tempfile.TemporaryDirectory(prefix=\"dagger_example_\") as tmpdir:\n",
    "        print(tmpdir)\n",
    "        dagger_trainer = SimpleDAggerTrainer(\n",
    "            venv = mt_venv,\n",
    "            scratch_dir = tmpdir,\n",
    "            expert_policy = expert_ppo,\n",
    "            bc_trainer = bc_trainer,\n",
    "            rng=rng,\n",
    "        )\n",
    "\n",
    "dagger_trainer.train(EPISODES)"
   ]
  },
  {
   "cell_type": "code",
   "execution_count": 29,
   "metadata": {},
   "outputs": [],
   "source": [
    "# import tempfile\n",
    "# from imitation.algorithms.dagger import SimpleDAggerTrainer, DAggerTrainer\n",
    "# from imitation.policies.serialize import load_policy\n",
    "\n",
    "# if TENSOR_BOARD:\n",
    "#     # Set new logger\n",
    "#     tmp_path_irl = f'{PATH}/tensorboard/irl_log/DG/'\n",
    "#     new_logger_irl = imit_logger.configure(tmp_path_irl, [\"stdout\", \"csv\", \"tensorboard\"])\n",
    "\n",
    "#     with tempfile.TemporaryDirectory(prefix=\"dagger_example_\") as tmpdir:\n",
    "#         print(tmpdir)\n",
    "#         dagger_trainer = DAggerTrainer(\n",
    "#             venv = mt_venv,\n",
    "#             scratch_dir = tmpdir,\n",
    "#             # expert_policy = expert_ppo,\n",
    "#             bc_trainer = bc_trainer,\n",
    "#             rng=rng,\n",
    "#             custom_logger = new_logger_irl,\n",
    "#         )        \n",
    "# else:\n",
    "#     with tempfile.TemporaryDirectory(prefix=\"dagger_example_\") as tmpdir:\n",
    "#         print(tmpdir)\n",
    "#         dagger_trainer = DAggerTrainer(\n",
    "#             venv = mt_venv,\n",
    "#             scratch_dir = tmpdir,\n",
    "#             # expert_policy = expert_ppo,\n",
    "#             bc_trainer = bc_trainer,\n",
    "#             rng=rng,\n",
    "#         )\n",
    "\n",
    "# dagger_trainer.train(EPISODES)"
   ]
  },
  {
   "cell_type": "code",
   "execution_count": 27,
   "metadata": {},
   "outputs": [
    {
     "name": "stdout",
     "output_type": "stream",
     "text": [
      "Reward: 4171.91363635\n"
     ]
    }
   ],
   "source": [
    "reward_DG, _ = evaluate_policy(dagger_trainer.policy, mt_venv, EVALUATION_ROUNDS)\n",
    "print(\"Reward:\", reward_DG)"
   ]
  },
  {
   "cell_type": "code",
   "execution_count": 28,
   "metadata": {},
   "outputs": [
    {
     "name": "stdout",
     "output_type": "stream",
     "text": [
      "Episodes: 4000\n",
      "\n",
      "Expert performance:              4176.704\n",
      "Apprentice performance:          271.922\n",
      "Apprentice performance - BCO:    4178.979\n",
      "Apprentice performance - DAgger: 4171.914\n"
     ]
    }
   ],
   "source": [
    "print(f'Episodes: {EPISODES}')\n",
    "print('')\n",
    "print(f'Expert performance:              {reward_ppo:5.3f}')\n",
    "print(f'Apprentice performance:          {reward_before_training:5.3f}')\n",
    "print(f'Apprentice performance - BCO:    {reward_after_training:5.3f}')\n",
    "print(f'Apprentice performance - DAgger: {reward_DG:5.3f}')\n",
    "# print(f'Training time: {elapsed_time:5.3f} seconds')"
   ]
  }
 ],
 "metadata": {
  "interpreter": {
   "hash": "bd378ce8f53beae712f05342da42c6a7612fc68b19bea03b52c7b1cdc8851b5f"
  },
  "kernelspec": {
   "display_name": "Python 3 (ipykernel)",
   "language": "python",
   "name": "python3"
  },
  "language_info": {
   "codemirror_mode": {
    "name": "ipython",
    "version": 3
   },
   "file_extension": ".py",
   "mimetype": "text/x-python",
   "name": "python",
   "nbconvert_exporter": "python",
   "pygments_lexer": "ipython3",
   "version": "3.10.11"
  }
 },
 "nbformat": 4,
 "nbformat_minor": 4
}
