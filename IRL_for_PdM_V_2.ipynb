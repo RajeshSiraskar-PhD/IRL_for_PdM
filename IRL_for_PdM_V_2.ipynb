{
 "cells": [
  {
   "cell_type": "markdown",
   "metadata": {},
   "source": [
    "# IRL for PdM\n",
    "- V.1.0 04-Aug-2024: First version\n",
    "- V.2.0 07-Aug-2024: New milling env.: Drop Time observation. All force and vibration axes (x, y, z) "
   ]
  },
  {
   "cell_type": "code",
   "execution_count": 56,
   "metadata": {},
   "outputs": [],
   "source": [
    "import warnings\n",
    "from tqdm import tqdm # Progress bar\n",
    "from datetime import datetime\n",
    "warnings.filterwarnings('ignore')\n",
    "\n",
    "# General libraries\n",
    "import pandas as pd\n",
    "import numpy as np\n",
    "import matplotlib.pyplot as plt\n",
    "from matplotlib.pyplot import figure\n",
    "\n",
    "# RL libraries\n",
    "import gymnasium as gym\n",
    "from stable_baselines3.common.env_checker import check_env\n",
    "from stable_baselines3.common.evaluation import evaluate_policy\n",
    "from stable_baselines3 import PPO, A2C\n",
    "from stable_baselines3.ppo import MlpPolicy\n",
    "from torch.utils.tensorboard import SummaryWriter\n",
    "\n",
    "# CH-AI Imitation libraries\n",
    "from imitation.util.util import make_vec_env\n",
    "from imitation.data import rollout\n",
    "from imitation.data.wrappers import RolloutInfoWrapper\n",
    "# Custom libraries\n",
    "from MT_environment import MillingTool_Env\n",
    "from utilities import downsample, tool_wear_data"
   ]
  },
  {
   "cell_type": "code",
   "execution_count": 57,
   "metadata": {},
   "outputs": [
    {
     "name": "stdout",
     "output_type": "stream",
     "text": [
      "Tensorboard logging to D:/ResearchLab/IRL/IRL_for_PdM/tensorboard/\n"
     ]
    }
   ],
   "source": [
    "DATA_FILE = 'PHM_C01.csv'\n",
    "WEAR_THRESHOLD = 0.12\n",
    "SAMPLING_RATE = 1\n",
    "ADD_NOISE = 0\n",
    "\n",
    "EPISODES = 4000\n",
    "BATCH_SIZE = 16\n",
    "SAMPLE_DEMONSTRATIONS = 100\n",
    "EVALUATION_ROUNDS = 10\n",
    "TENSOR_BOARD = True\n",
    "\n",
    "PRETRAINED_MODEL = True # If True load model. If False save as model_file \n",
    "MODEL_FILE = 'Expert_Model_PPO' \n",
    "LOG_PATH = 'D:/ResearchLab/IRL/IRL_for_PdM/tensorboard/'\n",
    "# LOG_PATH = f'{PATH}/tensorboard/{now.strftime(\"%d-%b-%Y_%H_%M\")}/'\n",
    "\n",
    "writer = SummaryWriter(LOG_PATH) if TENSOR_BOARD else None \n",
    "print(f'Tensorboard logging to {LOG_PATH}')"
   ]
  },
  {
   "cell_type": "code",
   "execution_count": 58,
   "metadata": {
    "scrolled": true
   },
   "outputs": [
    {
     "name": "stdout",
     "output_type": "stream",
     "text": [
      "- Down-sampling. Input data records: 1000. Sampling rate: 1. Expected rows 1000.    Down-sampled to 1000 rows.\n"
     ]
    },
    {
     "data": {
      "image/png": "[encoded data removed]",
      "text/plain": [
       "<Figure size 1000x250 with 1 Axes>"
      ]
     },
     "metadata": {},
     "output_type": "display_data"
    },
    {
     "name": "stdout",
     "output_type": "stream",
     "text": [
      "Tool failure RUL threshold at time 950 is 0.050\n"
     ]
    }
   ],
   "source": [
    "tool_wear, action_code, WEAR_THRESHOLD_NORMALIZED, df_train = tool_wear_data(\n",
    "    data_file=DATA_FILE, wear_threshold = WEAR_THRESHOLD,\n",
    "    normalize=True, add_noise=ADD_NOISE, sampling_rate = SAMPLING_RATE)\n",
    "\n",
    "records = len(df_train.index)\n",
    "MILLING_OPERATIONS_MAX = records\n",
    "\n",
    "rul_threshold_record = int(0.95 * records)\n",
    "rul_threshold = df_train.loc[df_train.index[rul_threshold_record], 'RUL']\n",
    "print(f'Tool failure RUL threshold at time {rul_threshold_record} is {rul_threshold:3.3f}')"
   ]
  },
  {
   "cell_type": "markdown",
   "metadata": {},
   "source": [
    "## 1. Predictive maintenance environment"
   ]
  },
  {
   "cell_type": "code",
   "execution_count": 59,
   "metadata": {},
   "outputs": [
    {
     "name": "stdout",
     "output_type": "stream",
     "text": [
      "\n",
      " -- Milling tool environment initiatlized. Potential records 1000. RUL threshold 0.050\n"
     ]
    }
   ],
   "source": [
    "from stable_baselines3.common.env_checker import check_env\n",
    "\n",
    "gym.register(\n",
    "    id = 'custom/MillingToolEnv-v0',\n",
    "    entry_point = MillingTool_Env,\n",
    "    max_episode_steps = MILLING_OPERATIONS_MAX,\n",
    ")\n",
    "\n",
    "mt_env = gym.make('custom/MillingToolEnv-v0', records=records, rul_threshold=rul_threshold)\n",
    "# Check env. formation \n",
    "check_env(mt_env)"
   ]
  },
  {
   "cell_type": "code",
   "execution_count": 60,
   "metadata": {},
   "outputs": [
    {
     "name": "stdout",
     "output_type": "stream",
     "text": [
      "\n",
      " - Milling tool environment: Tool wear data updated: 1000\n"
     ]
    }
   ],
   "source": [
    "mt_env.tool_wear_data(df_train)"
   ]
  },
  {
   "cell_type": "markdown",
   "metadata": {},
   "source": [
    "## 2. The \"Human\" Expert"
   ]
  },
  {
   "cell_type": "code",
   "execution_count": 61,
   "metadata": {},
   "outputs": [
    {
     "name": "stdout",
     "output_type": "stream",
     "text": [
      "- Saving Expert model in Expert_Model_PPO\n"
     ]
    }
   ],
   "source": [
    "if TENSOR_BOARD:\n",
    "    expert_ppo = PPO('MlpPolicy', env=mt_env, tensorboard_log=LOG_PATH)\n",
    "else:\n",
    "    expert_ppo = PPO('MlpPolicy', env=mt_env)\n",
    "\n",
    "if not PRETRAINED_MODEL:\n",
    "    print(f'- Training a *NEW* Expert model...')\n",
    "    expert_ppo.learn(EPISODES)\n",
    "    print(f'- Saving Expert model in {MODEL_FILE}')\n",
    "    expert_ppo.save(MODEL_FILE)\n",
    "else:\n",
    "    print(f'- Loading pre-tranined Expert model from {MODEL_FILE}')\n",
    "    expert_ppo = PPO.load(MODEL_FILE)"
   ]
  },
  {
   "cell_type": "code",
   "execution_count": 62,
   "metadata": {},
   "outputs": [],
   "source": [
    "# if TENSOR_BOARD:\n",
    "#     expert_a2c = A2C('MlpPolicy', env=mt_env, tensorboard_log=LOG_PATH)\n",
    "# else:\n",
    "#     expert_a2c = A2C('MlpPolicy', env=mt_env)\n",
    "\n",
    "# expert_a2c.learn(EPISODES)"
   ]
  },
  {
   "cell_type": "code",
   "execution_count": 63,
   "metadata": {},
   "outputs": [
    {
     "name": "stdout",
     "output_type": "stream",
     "text": [
      "PPO Expert reward: 4180.78\n"
     ]
    }
   ],
   "source": [
    "reward_ppo, _ = evaluate_policy(expert_ppo, mt_env, 5)\n",
    "print(f'PPO Expert reward: {reward_ppo:4.2f}')\n",
    "\n",
    "# reward_a2c, _ = evaluate_policy(expert_a2c, mt_env, 20)\n",
    "# print(f'A2C Expert reward: {reward_a2c:4.2f}')"
   ]
  },
  {
   "cell_type": "markdown",
   "metadata": {},
   "source": [
    "## 3. Train the student by applying IRL - using expert demonstrations\n",
    "\n",
    "- Use the expert to sample some trajectories.\n",
    "- Flatten them to obtain individual transitions for behavior cloning\n",
    "\n",
    "#### Implementation details: \n",
    "- Use `imitation` utilities - Collect 50 episode rollouts, then flatten them to just the transitions that we need for training.\n",
    "- `rollout` function requires a vectorized environment and needs the `RolloutInfoWrapper` around each of the environments\n",
    "- This is why we passed the `post_wrappers` argument to `make_vec_env` above."
   ]
  },
  {
   "cell_type": "code",
   "execution_count": 64,
   "metadata": {},
   "outputs": [
    {
     "name": "stdout",
     "output_type": "stream",
     "text": [
      "\n",
      " -- Milling tool environment initiatlized. Potential records 0. RUL threshold 0.000\n",
      "\n",
      " -- Milling tool environment initiatlized. Potential records 1000. RUL threshold 0.050\n"
     ]
    }
   ],
   "source": [
    "# Vectorized environment: Use the `make_vec_env` helper function - make sure to pass `post_wrappers=[lambda env, _: RolloutInfoWrapper(env)]`\n",
    "env_kwargs = {'records':records, 'rul_threshold':rul_threshold}\n",
    "\n",
    "mt_venv = make_vec_env(\n",
    "    'custom/MillingToolEnv-v0',\n",
    "    env_make_kwargs=env_kwargs,\n",
    "    rng=np.random.default_rng(),\n",
    "    n_envs=1,\n",
    "    post_wrappers=[lambda mt_venv, _: RolloutInfoWrapper(mt_venv)],\n",
    ")"
   ]
  },
  {
   "cell_type": "markdown",
   "metadata": {},
   "source": [
    "### Add tool wear data\n",
    "- IMPORTANT -- note how a vectorized env. methd is called\n",
    "- NOT like this >>  mt_venv.tool_wear_data(df_train)"
   ]
  },
  {
   "cell_type": "code",
   "execution_count": 65,
   "metadata": {},
   "outputs": [
    {
     "name": "stdout",
     "output_type": "stream",
     "text": [
      "\n",
      " - Milling tool environment: Tool wear data updated: 1000\n"
     ]
    },
    {
     "data": {
      "text/plain": [
       "[None]"
      ]
     },
     "execution_count": 65,
     "metadata": {},
     "output_type": "execute_result"
    }
   ],
   "source": [
    "# Add tool wear data\n",
    "# IMPORTANT -- note how a vectorized env. methd is called\n",
    "# NOT like this >>  mt_venv.tool_wear_data(df_train)\n",
    "mt_venv.env_method('tool_wear_data', df_train)"
   ]
  },
  {
   "cell_type": "code",
   "execution_count": null,
   "metadata": {},
   "outputs": [],
   "source": [
    "rng = np.random.default_rng()\n",
    "\n",
    "rollouts = rollout.rollout(\n",
    "    expert_ppo,\n",
    "    mt_venv,\n",
    "    rollout.make_sample_until(min_timesteps=None, min_episodes=SAMPLE_DEMONSTRATIONS),\n",
    "    rng = rng,\n",
    ")\n",
    "\n",
    "demonstrations = rollout.flatten_trajectories(rollouts)"
   ]
  },
  {
   "cell_type": "code",
   "execution_count": null,
   "metadata": {},
   "outputs": [],
   "source": [
    "import matplotlib.pyplot as plt\n",
    "obsvs = []\n",
    "acts = []\n",
    "\n",
    "for n in range(len(rollouts)):\n",
    "    acts.append(demonstrations.acts[n])\n",
    "    obsvs.append(demonstrations.obs[n])\n",
    "\n",
    "plt.figure(figsize=(8, 2))\n",
    "plt.title('Expert Actions')\n",
    "plt.plot(acts)\n",
    "\n",
    "plt.figure(figsize=(8, 2))\n",
    "plt.title('Sampled Observations')\n",
    "plt.plot(obsvs)"
   ]
  },
  {
   "cell_type": "markdown",
   "metadata": {},
   "source": [
    "## 3.2 Set up IRL algorithm\n",
    "- Set up our behavior cloning algorithm\n",
    "- Compute rewards before showing expert demonstrations"
   ]
  },
  {
   "cell_type": "code",
   "execution_count": null,
   "metadata": {},
   "outputs": [],
   "source": [
    "from imitation.algorithms import bc\n",
    "from imitation.util import logger as imit_logger\n",
    "\n",
    "if TENSOR_BOARD:\n",
    "    # Set new logger\n",
    "    tmp_path_irl = f'{PATH}/tensorboard/irl_log/BC/'\n",
    "    new_logger_irl = imit_logger.configure(tmp_path_irl, [\"stdout\", \"csv\", \"tensorboard\"])\n",
    "\n",
    "    bc_trainer = bc.BC(\n",
    "        observation_space=mt_venv.observation_space,\n",
    "        action_space=mt_venv.action_space,\n",
    "        demonstrations=demonstrations,\n",
    "        batch_size=BATCH_SIZE,\n",
    "        rng=rng,\n",
    "        device='cpu',\n",
    "        custom_logger = new_logger_irl)\n",
    "else:\n",
    "    bc_trainer = bc.BC(\n",
    "        observation_space=mt_venv.observation_space,\n",
    "        action_space=mt_venv.action_space,\n",
    "        demonstrations=demonstrations,\n",
    "        batch_size=BATCH_SIZE,\n",
    "        rng=rng,\n",
    "        device='cpu')"
   ]
  },
  {
   "cell_type": "code",
   "execution_count": null,
   "metadata": {},
   "outputs": [],
   "source": [
    "reward_before_training, _ = evaluate_policy(bc_trainer.policy, mt_venv, EVALUATION_ROUNDS)\n",
    "print(f\"Reward before training: {reward_before_training: 4.3f}\")"
   ]
  },
  {
   "cell_type": "markdown",
   "metadata": {},
   "source": [
    "## 3.3 Apply IRL - BC algo.\n",
    "- Use expert demonstrations and learn the reward function - using Behavior Cloning algorithm\r",
    "- \n",
    "Compute reward and compares befor/aftere showing expert demonstrations"
   ]
  },
  {
   "cell_type": "code",
   "execution_count": null,
   "metadata": {},
   "outputs": [],
   "source": [
    "bc_trainer.train(n_epochs=1)"
   ]
  },
  {
   "cell_type": "code",
   "execution_count": null,
   "metadata": {},
   "outputs": [],
   "source": [
    "now = datetime.now()\n",
    "dt_string = now.strftime(\"%d-%b-%Y  %H:%M:%S\")\n",
    "reward_after_training, _ = evaluate_policy(bc_trainer.policy, mt_venv, EVALUATION_ROUNDS)\n",
    "\n",
    "print('-'*120)\n",
    "print(' **** IRL with Imitation Libraries and Milling environment ****')\n",
    "print('-'*120)\n",
    "\n",
    "print(dt_string)\n",
    "print(f'Episodes: {EPISODES}')\n",
    "print(f'Expert performance:             {reward_ppo:5.3f}')\n",
    "print(f'Apprentice performance: Before: {reward_before_training:5.3f}')\n",
    "print(f'                        After:  {reward_after_training:5.3f}')\n",
    "# print(f'Training time: {elapsed_time:5.3f} seconds')"
   ]
  },
  {
   "cell_type": "markdown",
   "metadata": {},
   "source": [
    "## Results\n",
    "```\n",
    "-------------------------------------------------------------------------------------\n",
    "| Date-time             | Episodes | Expert   | Apprentice-before |Apprentice-after |\n",
    "-------------------------------------------------------------------------------------\n",
    "| 07-Aug-2024  20:51:01 | 4000     | 4176.156 | 147.070           | 4180.070        |\n",
    "| 07-Aug-2024  21:53:24 |  400     | 4176.033 | 536.258           | 4174.686        |\n",
    "| 07-Aug-2024  21:53:24 | 4000     | 4176.033 | 536.258           | 4174.686        |\n",
    "0\n",
    "```"
   ]
  },
  {
   "cell_type": "markdown",
   "metadata": {},
   "source": [
    "## 3.3.b Apply IRL - SQIL algo.\n",
    "- Use expert demonstrations and learn the reward function - using ## 3.3 Apply IRL (BC)\n",
    "- Use expert demonstrations and learn the reward function - using Behavior Cloning algorithm\n",
    "- Compute rewards and compare before/after showing expert demonstrations algorithm\n",
    "- Compute rewards and compare before/after showing expert demonstrations"
   ]
  },
  {
   "cell_type": "code",
   "execution_count": null,
   "metadata": {},
   "outputs": [],
   "source": [
    "# from imitation.algorithms import sqil\n",
    "# from imitation.util import logger as imit_logger\n",
    "\n",
    "# if TENSOR_BOARD:\n",
    "#     # Set new logger\n",
    "#     tmp_path_irl = f'{PATH}/tensorboard/irl_log/SQIL/'\n",
    "#     new_logger_irl = imit_logger.configure(tmp_path_irl, [\"stdout\", \"csv\", \"tensorboard\"])\n",
    "    \n",
    "#     sqil_trainer = sqil.SQIL(   \n",
    "#         venv = mt_venv,\n",
    "#         demonstrations = transitions,\n",
    "#         policy='MlpPolicy',\n",
    "#         # device='cpu',\n",
    "#         custom_logger = new_logger_irl\n",
    "#     )\n",
    "# else: \n",
    "#     sqil_trainer = sqil.SQIL(   \n",
    "#         venv = mt_venv,\n",
    "#         demonstrations = demonstrations,\n",
    "#         policy='MlpPolicy')"
   ]
  },
  {
   "cell_type": "code",
   "execution_count": null,
   "metadata": {},
   "outputs": [],
   "source": [
    "# reward_before_training, _ = evaluate_policy(sqil_trainer.policy, mt_venv, EVALUATION_ROUNDS)\n",
    "\n",
    "# # Note: set to 1_000_000 to obtain good results\n",
    "# sqil_trainer.train(total_timesteps = EPISODES)  \n",
    "\n",
    "# reward_after_training, _ = evaluate_policy(sqil_trainer.policy, mt_venv, EVALUATION_ROUNDS)\n",
    "\n",
    "# print(dt_string)\n",
    "# print(f'Episodes: {EPISODES}')\n",
    "# print(f'Rewards Before: {reward_before_training:5.3f} | After: {reward_after_training:5.3f}')"
   ]
  },
  {
   "cell_type": "code",
   "execution_count": null,
   "metadata": {},
   "outputs": [],
   "source": []
  }
 ],
 "metadata": {
  "interpreter": {
   "hash": "bd378ce8f53beae712f05342da42c6a7612fc68b19bea03b52c7b1cdc8851b5f"
  },
  "kernelspec": {
   "display_name": "Python 3 (ipykernel)",
   "language": "python",
   "name": "python3"
  },
  "language_info": {
   "codemirror_mode": {
    "name": "ipython",
    "version": 3
   },
   "file_extension": ".py",
   "mimetype": "text/x-python",
   "name": "python",
   "nbconvert_exporter": "python",
   "pygments_lexer": "ipython3",
   "version": "3.10.11"
  }
 },
 "nbformat": 4,
 "nbformat_minor": 4
}
