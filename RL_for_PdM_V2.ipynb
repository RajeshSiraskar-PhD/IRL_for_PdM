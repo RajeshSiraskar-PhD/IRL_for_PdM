{
 "cells": [
  {
   "cell_type": "markdown",
   "metadata": {
    "editable": true,
    "slideshow": {
     "slide_type": ""
    },
    "tags": []
   },
   "source": [
    "## RL for PdM - PhD Thesis work\n",
    "- V.2.0 13-Aug-2024: Two environments - similar rewards.\n",
    "\n",
    "**Approach**\n",
    "- Create two environments: PHM and NUAA\n",
    "- To demonstrate robustness - Use multiple data sets from each 3 + 3 = 6\n",
    "- Additional: Add noise and Break-down\n",
    "- Publish results\n",
    "\n",
    "**Implementation Notes**\n",
    "- Issue was RUL threshold should have some value and not 0"
   ]
  },
  {
   "cell_type": "code",
   "execution_count": 25,
   "metadata": {},
   "outputs": [],
   "source": [
    "import warnings\n",
    "from tqdm import tqdm # Progress bar\n",
    "from datetime import datetime\n",
    "warnings.filterwarnings('ignore')\n",
    "\n",
    "# General libraries\n",
    "import pandas as pd\n",
    "import numpy as np\n",
    "import matplotlib.pyplot as plt\n",
    "from matplotlib.pyplot import figure\n",
    "\n",
    "# RL libraries\n",
    "import gymnasium as gym\n",
    "from stable_baselines3.common.env_checker import check_env\n",
    "from stable_baselines3.common.evaluation import evaluate_policy\n",
    "from stable_baselines3 import PPO, A2C\n",
    "from stable_baselines3.ppo import MlpPolicy\n",
    "from torch.utils.tensorboard import SummaryWriter\n",
    "\n",
    "# Custom libraries\n",
    "from MT_environment import MillingTool_Env_PHM,  MillingTool_Env_NUAA \n",
    "from utilities import downsample, tool_wear_data\n",
    "\n",
    "now = datetime.now()\n",
    "dt_string = now.strftime(\"%d-%b-%Y  %H:%M:%S\")"
   ]
  },
  {
   "cell_type": "code",
   "execution_count": 26,
   "metadata": {},
   "outputs": [],
   "source": [
    "# NUAA_W1_0p229.csv, NUAA_W3_0p12.csv,  NUAA_W8_0p281.csv\n",
    "# PHM_C01_0p12.csv,  PHM_C04_0p098.csv, PHM_C06_0p13.csv"
   ]
  },
  {
   "cell_type": "code",
   "execution_count": 27,
   "metadata": {},
   "outputs": [
    {
     "name": "stdout",
     "output_type": "stream",
     "text": [
      "Data set: D:/ResearchLab/IRL/IRL_for_PdM/Data/Training_datasets/PHM_C06_0p13.csv\n",
      "Tensorboard logging to D:/ResearchLab/IRL/IRL_for_PdM/tensorboard/PHM/\n"
     ]
    }
   ],
   "source": [
    "ENV_TYPE = 'PHM'\n",
    "\n",
    "if ENV_TYPE == 'NUAA':\n",
    "    DATA_FILE = 'NUAA_W8_0p281.csv'\n",
    "    WEAR_THRESHOLD = 0.229\n",
    "else:\n",
    "    DATA_FILE = 'PHM_C06_0p13.csv'\n",
    "    WEAR_THRESHOLD = 0.13\n",
    "\n",
    "SAMPLING_RATE = 1\n",
    "ADD_NOISE = 0\n",
    "\n",
    "ALGO = 'A2C'\n",
    "EPISODES = 8_000\n",
    "BATCH_SIZE = 16\n",
    "EVALUATION_ROUNDS = 20\n",
    "TENSOR_BOARD = False\n",
    "\n",
    "PRETRAINED_MODEL = True # If True load model. If False save as model_file \n",
    "PATH = 'D:/ResearchLab/IRL/IRL_for_PdM'\n",
    "DATA_PATH = f'{PATH}/Data/Training_datasets'\n",
    "DATA_FILE = f'{DATA_PATH}/{DATA_FILE}'\n",
    "# MODEL_FILE = f'{PATH}/models/Agent_{ENV_TYPE}_{ALGO}'\n",
    "MODEL_FILE = f'{PATH}/models/PdM_Agent'\n",
    "# LOG_PATH = f'{PATH}/tensorboard/'\n",
    "LOG_PATH = f'{PATH}/tensorboard/{ENV_TYPE}/'\n",
    "\n",
    "writer = SummaryWriter(LOG_PATH) if TENSOR_BOARD else None \n",
    "print(f'Data set: {DATA_FILE}')\n",
    "print(f'Tensorboard logging to {LOG_PATH}')"
   ]
  },
  {
   "cell_type": "code",
   "execution_count": 28,
   "metadata": {},
   "outputs": [
    {
     "name": "stdout",
     "output_type": "stream",
     "text": [
      "- Down-sampling. Input data records: 1020. Sampling rate: 1. Expected rows 1020.    Down-sampled to 1020 rows.\n"
     ]
    },
    {
     "data": {
      "image/png": "[encoded data removed]",
      "text/plain": [
       "<Figure size 1000x250 with 1 Axes>"
      ]
     },
     "metadata": {},
     "output_type": "display_data"
    },
    {
     "name": "stdout",
     "output_type": "stream",
     "text": [
      "Tool failure RUL threshold at time 969 is 0.014\n"
     ]
    }
   ],
   "source": [
    "tool_wear, action_code, WEAR_THRESHOLD_NORMALIZED, df_train = tool_wear_data(\n",
    "    env_type = ENV_TYPE, data_file=DATA_FILE, wear_threshold = WEAR_THRESHOLD,\n",
    "    normalize=True, add_noise=ADD_NOISE, sampling_rate = SAMPLING_RATE)\n",
    "\n",
    "records = len(df_train.index)\n",
    "MILLING_OPERATIONS_MAX = records\n",
    "\n",
    "rul_threshold_record = int(0.95 * records)\n",
    "rul_threshold = df_train.loc[df_train.index[rul_threshold_record], 'RUL']\n",
    "print(f'Tool failure RUL threshold at time {rul_threshold_record} is {rul_threshold:3.3f}')"
   ]
  },
  {
   "cell_type": "markdown",
   "metadata": {},
   "source": [
    "## 1. Predictive maintenance environment"
   ]
  },
  {
   "cell_type": "code",
   "execution_count": 29,
   "metadata": {},
   "outputs": [
    {
     "name": "stdout",
     "output_type": "stream",
     "text": [
      "\n",
      " --  Milling tool environment initiatlized. Potential records 1020. RUL threshold 0.014\n"
     ]
    }
   ],
   "source": [
    "from stable_baselines3.common.env_checker import check_env\n",
    "\n",
    "gym.register(\n",
    "    id = 'custom/MillingToolEnv-v0',\n",
    "    entry_point = MillingTool_Env_NUAA if ENV_TYPE == 'NUAA' else MillingTool_Env_PHM,\n",
    "    max_episode_steps = MILLING_OPERATIONS_MAX,)\n",
    "\n",
    "mt_env = gym.make('custom/MillingToolEnv-v0', records=records, rul_threshold=rul_threshold)\n",
    "# Check env. formation \n",
    "check_env(mt_env)"
   ]
  },
  {
   "cell_type": "code",
   "execution_count": 30,
   "metadata": {},
   "outputs": [
    {
     "name": "stdout",
     "output_type": "stream",
     "text": [
      "\n",
      " - Milling tool environment: Tool wear data updated: 1020\n"
     ]
    }
   ],
   "source": [
    "mt_env.tool_wear_data(df_train)"
   ]
  },
  {
   "cell_type": "markdown",
   "metadata": {},
   "source": [
    "## 2. Train the PdM Agent"
   ]
  },
  {
   "cell_type": "code",
   "execution_count": 31,
   "metadata": {},
   "outputs": [
    {
     "name": "stdout",
     "output_type": "stream",
     "text": [
      "- Loading pre-tranined A2C Expert model from D:/ResearchLab/IRL/IRL_for_PdM/models/PdM_Agent\n"
     ]
    }
   ],
   "source": [
    "if ALGO == 'PPO':\n",
    "    if TENSOR_BOARD:\n",
    "        expert_ppo = PPO('MlpPolicy', env=mt_env, tensorboard_log=LOG_PATH)\n",
    "    else:\n",
    "        expert_ppo = PPO('MlpPolicy', env=mt_env)\n",
    "    \n",
    "    if not PRETRAINED_MODEL:\n",
    "        print(f'- Training a *NEW* {ALGO} Expert model...')\n",
    "        expert_ppo.learn(EPISODES)\n",
    "        print(f'- Saving Expert model in {MODEL_FILE}')\n",
    "        expert_ppo.save(MODEL_FILE)\n",
    "    else:\n",
    "        print(f'- Loading pre-tranined {ALGO} Expert model from {MODEL_FILE}')\n",
    "        expert_ppo = PPO.load(MODEL_FILE)\n",
    "elif ALGO == 'A2C':\n",
    "    if TENSOR_BOARD:\n",
    "        expert_a2c = A2C('MlpPolicy', env=mt_env, tensorboard_log=LOG_PATH)\n",
    "    else:\n",
    "        expert_a2c = A2C('MlpPolicy', env=mt_env)\n",
    "    \n",
    "    if not PRETRAINED_MODEL:\n",
    "        print(f'- Training a *NEW* {ALGO} Expert model...')\n",
    "        expert_a2c.learn(EPISODES)\n",
    "        print(f'- Saving Expert model in {MODEL_FILE}')\n",
    "        expert_a2c.save(MODEL_FILE)\n",
    "    else:\n",
    "        print(f'- Loading pre-tranined {ALGO} Expert model from {MODEL_FILE}')\n",
    "        expert_a2c = A2C.load(MODEL_FILE)"
   ]
  },
  {
   "cell_type": "code",
   "execution_count": 44,
   "metadata": {},
   "outputs": [
    {
     "name": "stdout",
     "output_type": "stream",
     "text": [
      "------------------------------------------------------------------------------------------------------------------------\n",
      " **** Reinforcement Learning for Predictive Maintenance ****\n",
      "------------------------------------------------------------------------------------------------------------------------\n",
      "15-Oct-2024\n",
      "Algo. A2C - Episodes:  8000\n",
      "A2C agent: 4361.83\n"
     ]
    }
   ],
   "source": [
    "print('-'*120)\n",
    "print(' **** Reinforcement Learning for Predictive Maintenance ****')\n",
    "print('-'*120)\n",
    "\n",
    "print(dt_string)\n",
    "print(f'Algo. {ALGO} - Episodes:  {EPISODES}')\n",
    "\n",
    "if ALGO == 'PPO':\n",
    "    reward_ppo, _ = evaluate_policy(expert_ppo, mt_env, EVALUATION_ROUNDS)\n",
    "    print(f'PPO agent: {reward_ppo:5.2f}')\n",
    "elif ALGO == 'A2C':\n",
    "    reward_a2c, _ = evaluate_policy(expert_a2c, mt_env, EVALUATION_ROUNDS)\n",
    "    print(f'A2C agent: {reward_a2c:5.2f}')"
   ]
  },
  {
   "cell_type": "code",
   "execution_count": 45,
   "metadata": {},
   "outputs": [],
   "source": [
    "now = datetime.now()\n",
    "dt_string = now.strftime('%d-%b-%Y')"
   ]
  },
  {
   "cell_type": "code",
   "execution_count": 46,
   "metadata": {},
   "outputs": [
    {
     "name": "stdout",
     "output_type": "stream",
     "text": [
      "['15-Oct-2024', '20:00:02', 'A2C', 'PHM', 'PHM_C06_0p13.csv', 20, 4361.825]\n",
      "Results added to report file.\n"
     ]
    }
   ],
   "source": [
    "import csv\n",
    "from pathlib import Path\n",
    "\n",
    "data_file_name = (DATA_FILE.split('/')[-1])\n",
    "\n",
    "results=[now.strftime('%d-%b-%Y'), now.strftime('%H:%M:%S'), ALGO, ENV_TYPE, data_file_name, EVALUATION_ROUNDS, round(reward_a2c, 3)]\n",
    "print(results)\n",
    "\n",
    "# Check if reports file exists \n",
    "report_file = Path('Report.csv')\n",
    "if not report_file.is_file():\n",
    "    print('New report file created.')\n",
    "    report_columns=['Date', 'Time', 'Algo', 'Data-set', 'Data file', 'Evaluation rounds', 'Rewards']\n",
    "    with open(report_file, 'w', newline='') as f:\n",
    "        writer = csv.writer(f)\n",
    "        writer.writerow(report_columns)\n",
    "else:\n",
    "    print('Results added to report file.')\n",
    "    with open(report_file, 'a', newline='') as f:\n",
    "        writer = csv.writer(f)\n",
    "        writer.writerow(results)"
   ]
  },
  {
   "cell_type": "code",
   "execution_count": null,
   "metadata": {},
   "outputs": [],
   "source": []
  }
 ],
 "metadata": {
  "interpreter": {
   "hash": "bd378ce8f53beae712f05342da42c6a7612fc68b19bea03b52c7b1cdc8851b5f"
  },
  "kernelspec": {
   "display_name": "Python 3 (ipykernel)",
   "language": "python",
   "name": "python3"
  },
  "language_info": {
   "codemirror_mode": {
    "name": "ipython",
    "version": 3
   },
   "file_extension": ".py",
   "mimetype": "text/x-python",
   "name": "python",
   "nbconvert_exporter": "python",
   "pygments_lexer": "ipython3",
   "version": "3.10.11"
  }
 },
 "nbformat": 4,
 "nbformat_minor": 4
}
