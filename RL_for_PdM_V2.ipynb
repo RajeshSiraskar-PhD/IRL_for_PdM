{
 "cells": [
  {
   "cell_type": "markdown",
   "metadata": {
    "editable": true,
    "slideshow": {
     "slide_type": ""
    },
    "tags": []
   },
   "source": [
    "## RL for PdM - PhD Thesis work\n",
    "- V.2.0 13-Aug-2024: Two environments - similar rewards.\n",
    "\n",
    "**Approach**\n",
    "- Create two environments: PHM and NUAA\n",
    "- To demonstrate robustness - Use multiple data sets from each 3 + 3 = 6\n",
    "- Additional: Add noise and Break-down\n",
    "- Publish results\n",
    "\n",
    "**Implementation Notes**\n",
    "- Issue was RUL threshold should have some value and not 0"
   ]
  },
  {
   "cell_type": "code",
   "execution_count": 25,
   "metadata": {},
   "outputs": [],
   "source": [
    "import warnings\n",
    "from tqdm import tqdm # Progress bar\n",
    "from datetime import datetime\n",
    "warnings.filterwarnings('ignore')\n",
    "\n",
    "# General libraries\n",
    "import pandas as pd\n",
    "import numpy as np\n",
    "import matplotlib.pyplot as plt\n",
    "from matplotlib.pyplot import figure\n",
    "\n",
    "# RL libraries\n",
    "import gymnasium as gym\n",
    "from stable_baselines3.common.env_checker import check_env\n",
    "from stable_baselines3.common.evaluation import evaluate_policy\n",
    "from stable_baselines3 import PPO, A2C\n",
    "from stable_baselines3.ppo import MlpPolicy\n",
    "from torch.utils.tensorboard import SummaryWriter\n",
    "\n",
    "# Custom libraries\n",
    "from MT_environment import MillingTool_Env_PHM,  MillingTool_Env_NUAA \n",
    "from utilities import downsample, tool_wear_data\n",
    "\n",
    "now = datetime.now()\n",
    "dt_string = now.strftime(\"%d-%b-%Y  %H:%M:%S\")"
   ]
  },
  {
   "cell_type": "code",
   "execution_count": 26,
   "metadata": {},
   "outputs": [
    {
     "name": "stdout",
     "output_type": "stream",
     "text": [
      "Tensorboard logging to D:/ResearchLab/IRL/IRL_for_PdM/tensorboard/PHM/\n"
     ]
    }
   ],
   "source": [
    "ENV_TYPE = 'PHM'\n",
    "\n",
    "if ENV_TYPE == 'NUAA':\n",
    "    DATA_FILE = 'NUAA_W1_0p229.csv'\n",
    "    WEAR_THRESHOLD = 0.229\n",
    "else:\n",
    "    DATA_FILE = 'PHM_C01.csv'\n",
    "    WEAR_THRESHOLD = 0.12\n",
    "\n",
    "SAMPLING_RATE = 1 # original file 44 for 1000 recs. 440 for 100 rec.\n",
    "ADD_NOISE = 0\n",
    "\n",
    "ALGO = 'A2C'\n",
    "EPISODES = 8_000\n",
    "BATCH_SIZE = 16\n",
    "EVALUATION_ROUNDS = 20\n",
    "TENSOR_BOARD = True\n",
    "\n",
    "PRETRAINED_MODEL = False # If True load model. If False save as model_file \n",
    "PATH = 'D:/ResearchLab/IRL/IRL_for_PdM'\n",
    "MODEL_FILE = f'{PATH}/models/Agent_{ENV_TYPE}_{ALGO}'\n",
    "# LOG_PATH = f'{PATH}/tensorboard/'\n",
    "LOG_PATH = f'{PATH}/tensorboard/{ENV_TYPE}/'\n",
    "\n",
    "writer = SummaryWriter(LOG_PATH) if TENSOR_BOARD else None \n",
    "print(f'Tensorboard logging to {LOG_PATH}')"
   ]
  },
  {
   "cell_type": "code",
   "execution_count": 27,
   "metadata": {},
   "outputs": [
    {
     "name": "stdout",
     "output_type": "stream",
     "text": [
      "- Down-sampling. Input data records: 1000. Sampling rate: 1. Expected rows 1000.    Down-sampled to 1000 rows.\n"
     ]
    },
    {
     "data": {
      "image/png": "[encoded data removed]",
      "text/plain": [
       "<Figure size 1000x250 with 1 Axes>"
      ]
     },
     "metadata": {},
     "output_type": "display_data"
    },
    {
     "name": "stdout",
     "output_type": "stream",
     "text": [
      "Tool failure RUL threshold at time 950 is 0.050\n"
     ]
    }
   ],
   "source": [
    "tool_wear, action_code, WEAR_THRESHOLD_NORMALIZED, df_train = tool_wear_data(\n",
    "    env_type = ENV_TYPE, data_file=DATA_FILE, wear_threshold = WEAR_THRESHOLD,\n",
    "    normalize=True, add_noise=ADD_NOISE, sampling_rate = SAMPLING_RATE)\n",
    "\n",
    "records = len(df_train.index)\n",
    "MILLING_OPERATIONS_MAX = records\n",
    "\n",
    "rul_threshold_record = int(0.95 * records)\n",
    "rul_threshold = df_train.loc[df_train.index[rul_threshold_record], 'RUL']\n",
    "print(f'Tool failure RUL threshold at time {rul_threshold_record} is {rul_threshold:3.3f}')"
   ]
  },
  {
   "cell_type": "markdown",
   "metadata": {},
   "source": [
    "## 1. Predictive maintenance environment"
   ]
  },
  {
   "cell_type": "code",
   "execution_count": 21,
   "metadata": {},
   "outputs": [
    {
     "name": "stdout",
     "output_type": "stream",
     "text": [
      "\n",
      " --  Milling tool environment initiatlized. Potential records 1001. RUL threshold 0.042\n"
     ]
    }
   ],
   "source": [
    "from stable_baselines3.common.env_checker import check_env\n",
    "\n",
    "gym.register(\n",
    "    id = 'custom/MillingToolEnv-v0',\n",
    "    entry_point = MillingTool_Env_NUAA if ENV_TYPE == 'NUAA' else MillingTool_Env_PHM,\n",
    "    max_episode_steps = MILLING_OPERATIONS_MAX,)\n",
    "\n",
    "mt_env = gym.make('custom/MillingToolEnv-v0', records=records, rul_threshold=rul_threshold)\n",
    "# Check env. formation \n",
    "check_env(mt_env)"
   ]
  },
  {
   "cell_type": "code",
   "execution_count": 22,
   "metadata": {},
   "outputs": [
    {
     "name": "stdout",
     "output_type": "stream",
     "text": [
      "\n",
      " - Milling tool environment: Tool wear data updated: 1001\n"
     ]
    }
   ],
   "source": [
    "mt_env.tool_wear_data(df_train)"
   ]
  },
  {
   "cell_type": "markdown",
   "metadata": {},
   "source": [
    "## 2. Train the PdM Agent"
   ]
  },
  {
   "cell_type": "code",
   "execution_count": 23,
   "metadata": {},
   "outputs": [
    {
     "name": "stdout",
     "output_type": "stream",
     "text": [
      "- Training a *NEW* A2C Expert model...\n",
      "- Saving Expert model in D:/ResearchLab/IRL/IRL_for_PdM/models/Agent_NUAA_A2C\n"
     ]
    }
   ],
   "source": [
    "if ALGO == 'PPO':\n",
    "    if TENSOR_BOARD:\n",
    "        expert_ppo = PPO('MlpPolicy', env=mt_env, tensorboard_log=LOG_PATH)\n",
    "    else:\n",
    "        expert_ppo = PPO('MlpPolicy', env=mt_env)\n",
    "    \n",
    "    if not PRETRAINED_MODEL:\n",
    "        print(f'- Training a *NEW* {ALGO} Expert model...')\n",
    "        expert_ppo.learn(EPISODES)\n",
    "        print(f'- Saving Expert model in {MODEL_FILE}')\n",
    "        expert_ppo.save(MODEL_FILE)\n",
    "    else:\n",
    "        print(f'- Loading pre-tranined {ALGO} Expert model from {MODEL_FILE}')\n",
    "        expert_ppo = PPO.load(MODEL_FILE)\n",
    "elif ALGO == 'A2C':\n",
    "    if TENSOR_BOARD:\n",
    "        expert_a2c = A2C('MlpPolicy', env=mt_env, tensorboard_log=LOG_PATH)\n",
    "    else:\n",
    "        expert_a2c = A2C('MlpPolicy', env=mt_env)\n",
    "    \n",
    "    if not PRETRAINED_MODEL:\n",
    "        print(f'- Training a *NEW* {ALGO} Expert model...')\n",
    "        expert_a2c.learn(EPISODES)\n",
    "        print(f'- Saving Expert model in {MODEL_FILE}')\n",
    "        expert_a2c.save(MODEL_FILE)\n",
    "    else:\n",
    "        print(f'- Loading pre-tranined {ALGO} Expert model from {MODEL_FILE}')\n",
    "        expert_a2c = A2C.load(MODEL_FILE)"
   ]
  },
  {
   "cell_type": "code",
   "execution_count": 24,
   "metadata": {},
   "outputs": [
    {
     "name": "stdout",
     "output_type": "stream",
     "text": [
      "------------------------------------------------------------------------------------------------------------------------\n",
      " **** Reinforcement Learning for Predictive Maintenance ****\n",
      "------------------------------------------------------------------------------------------------------------------------\n",
      "13-Oct-2024  14:07:12\n",
      "Algo. A2C - Episodes:  8000\n",
      "A2C agent: 4192.39\n"
     ]
    }
   ],
   "source": [
    "print('-'*120)\n",
    "print(' **** Reinforcement Learning for Predictive Maintenance ****')\n",
    "print('-'*120)\n",
    "\n",
    "print(dt_string)\n",
    "print(f'Algo. {ALGO} - Episodes:  {EPISODES}')\n",
    "\n",
    "if ALGO == 'PPO':\n",
    "    reward_ppo, _ = evaluate_policy(expert_ppo, mt_env, EVALUATION_ROUNDS)\n",
    "    print(f'PPO agent: {reward_ppo:5.2f}')\n",
    "elif ALGO == 'A2C':\n",
    "    reward_a2c, _ = evaluate_policy(expert_a2c, mt_env, EVALUATION_ROUNDS)\n",
    "    print(f'A2C agent: {reward_a2c:5.2f}')"
   ]
  },
  {
   "cell_type": "markdown",
   "metadata": {},
   "source": [
    "```\n",
    "----------------------------------------------------------\n",
    "12-Oct-2024\n",
    "-----------------------------------------------------------\n",
    "NUAA Run 1: 12-Oct-2024  14:07:42 : A2C, 8000,  4199.02\n",
    "NUAA Run 2: 13-Oct-2024  14:51:10 : A2C, 8000,  4192.43\n",
    "NUAA Run 3: 13-Oct-2024  14:51:10 : A2C, 8000,  4192.43\n",
    "-----------------------------------------------------------\n",
    "\n",
    "PHM  Run 1: 12-Oct-2024  14:58:38 : A2C, 8000,  4180.12\n",
    "-----------------------------------------------------------\n",
    "```"
   ]
  }
 ],
 "metadata": {
  "interpreter": {
   "hash": "bd378ce8f53beae712f05342da42c6a7612fc68b19bea03b52c7b1cdc8851b5f"
  },
  "kernelspec": {
   "display_name": "Python 3 (ipykernel)",
   "language": "python",
   "name": "python3"
  },
  "language_info": {
   "codemirror_mode": {
    "name": "ipython",
    "version": 3
   },
   "file_extension": ".py",
   "mimetype": "text/x-python",
   "name": "python",
   "nbconvert_exporter": "python",
   "pygments_lexer": "ipython3",
   "version": "3.10.11"
  }
 },
 "nbformat": 4,
 "nbformat_minor": 4
}
