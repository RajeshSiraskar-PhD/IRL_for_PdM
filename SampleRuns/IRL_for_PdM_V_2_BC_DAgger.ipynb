{
 "cells": [
  {
   "cell_type": "markdown",
   "metadata": {},
   "source": [
    "# IRL for PdM\n",
    "- V.1.0 04-Aug-2024: First version\n",
    "- V.2.0 07-Aug-2024: New milling env.: Drop Time observation. All force and vibration axes (x, y, z) "
   ]
  },
  {
   "cell_type": "code",
   "execution_count": 2,
   "metadata": {},
   "outputs": [],
   "source": [
    "import warnings\n",
    "from tqdm import tqdm # Progress bar\n",
    "from datetime import datetime\n",
    "warnings.filterwarnings('ignore')\n",
    "\n",
    "# General libraries\n",
    "import pandas as pd\n",
    "import numpy as np\n",
    "import matplotlib.pyplot as plt\n",
    "from matplotlib.pyplot import figure\n",
    "\n",
    "# RL libraries\n",
    "import gymnasium as gym\n",
    "from stable_baselines3.common.env_checker import check_env\n",
    "from stable_baselines3.common.evaluation import evaluate_policy\n",
    "from stable_baselines3 import PPO, A2C\n",
    "from stable_baselines3.ppo import MlpPolicy\n",
    "from torch.utils.tensorboard import SummaryWriter\n",
    "\n",
    "# CH-AI Imitation libraries\n",
    "from imitation.util.util import make_vec_env\n",
    "from imitation.data import rollout, serialize\n",
    "from imitation.data.wrappers import RolloutInfoWrapper\n",
    "# Custom libraries\n",
    "from MT_environment import MillingTool_Env\n",
    "from utilities import downsample, tool_wear_data"
   ]
  },
  {
   "cell_type": "code",
   "execution_count": 3,
   "metadata": {},
   "outputs": [
    {
     "name": "stdout",
     "output_type": "stream",
     "text": [
      "Tensorboard logging to D:/ResearchLab/IRL/IRL_for_PdM/tensorboard/\n"
     ]
    }
   ],
   "source": [
    "DATA_FILE = 'PHM_C01.csv'\n",
    "WEAR_THRESHOLD = 0.12\n",
    "SAMPLING_RATE = 1\n",
    "ADD_NOISE = 0\n",
    "\n",
    "EPISODES = 4_000\n",
    "BATCH_SIZE = 16\n",
    "SAMPLE_DEMONSTRATIONS = 100\n",
    "EVALUATION_ROUNDS = 20\n",
    "TENSOR_BOARD = False\n",
    "\n",
    "PRETRAINED_MODEL = True # If True load model. If False save as model_file \n",
    "SAVED_DEMONSTRATIONS = True # If True load saved demonstrations. If False save them\n",
    "MODEL_FILE = 'Expert_Model_PPO' \n",
    "LOG_PATH = 'D:/ResearchLab/IRL/IRL_for_PdM/tensorboard/'\n",
    "# LOG_PATH = f'{PATH}/tensorboard/{now.strftime(\"%d-%b-%Y_%H_%M\")}/'\n",
    "\n",
    "writer = SummaryWriter(LOG_PATH) if TENSOR_BOARD else None \n",
    "print(f'Tensorboard logging to {LOG_PATH}')"
   ]
  },
  {
   "cell_type": "code",
   "execution_count": 4,
   "metadata": {
    "scrolled": true
   },
   "outputs": [
    {
     "name": "stdout",
     "output_type": "stream",
     "text": [
      "- Down-sampling. Input data records: 1000. Sampling rate: 1. Expected rows 1000.    Down-sampled to 1000 rows.\n"
     ]
    },
    {
     "data": {
      "image/png": "[encoded data removed]",
      "text/plain": [
       "<Figure size 1000x250 with 1 Axes>"
      ]
     },
     "metadata": {},
     "output_type": "display_data"
    },
    {
     "name": "stdout",
     "output_type": "stream",
     "text": [
      "Tool failure RUL threshold at time 950 is 0.050\n"
     ]
    }
   ],
   "source": [
    "tool_wear, action_code, WEAR_THRESHOLD_NORMALIZED, df_train = tool_wear_data(\n",
    "    data_file=DATA_FILE, wear_threshold = WEAR_THRESHOLD,\n",
    "    normalize=True, add_noise=ADD_NOISE, sampling_rate = SAMPLING_RATE)\n",
    "\n",
    "records = len(df_train.index)\n",
    "MILLING_OPERATIONS_MAX = records\n",
    "\n",
    "rul_threshold_record = int(0.95 * records)\n",
    "rul_threshold = df_train.loc[df_train.index[rul_threshold_record], 'RUL']\n",
    "print(f'Tool failure RUL threshold at time {rul_threshold_record} is {rul_threshold:3.3f}')"
   ]
  },
  {
   "cell_type": "markdown",
   "metadata": {},
   "source": [
    "## 1. Predictive maintenance environment"
   ]
  },
  {
   "cell_type": "code",
   "execution_count": 5,
   "metadata": {},
   "outputs": [
    {
     "name": "stdout",
     "output_type": "stream",
     "text": [
      "\n",
      " -- Milling tool environment initiatlized. Potential records 1000. RUL threshold 0.050\n"
     ]
    }
   ],
   "source": [
    "from stable_baselines3.common.env_checker import check_env\n",
    "\n",
    "gym.register(\n",
    "    id = 'custom/MillingToolEnv-v0',\n",
    "    entry_point = MillingTool_Env,\n",
    "    max_episode_steps = MILLING_OPERATIONS_MAX,\n",
    ")\n",
    "\n",
    "mt_env = gym.make('custom/MillingToolEnv-v0', records=records, rul_threshold=rul_threshold)\n",
    "# Check env. formation \n",
    "check_env(mt_env)"
   ]
  },
  {
   "cell_type": "code",
   "execution_count": 6,
   "metadata": {},
   "outputs": [
    {
     "name": "stdout",
     "output_type": "stream",
     "text": [
      "\n",
      " - Milling tool environment: Tool wear data updated: 1000\n"
     ]
    }
   ],
   "source": [
    "mt_env.tool_wear_data(df_train)"
   ]
  },
  {
   "cell_type": "markdown",
   "metadata": {},
   "source": [
    "## 2. The \"Human\" Expert"
   ]
  },
  {
   "cell_type": "code",
   "execution_count": 7,
   "metadata": {},
   "outputs": [
    {
     "name": "stdout",
     "output_type": "stream",
     "text": [
      "- Loading pre-tranined Expert model from Expert_Model_PPO\n"
     ]
    }
   ],
   "source": [
    "if TENSOR_BOARD:\n",
    "    expert_ppo = PPO('MlpPolicy', env=mt_env, tensorboard_log=LOG_PATH)\n",
    "else:\n",
    "    expert_ppo = PPO('MlpPolicy', env=mt_env)\n",
    "\n",
    "if not PRETRAINED_MODEL:\n",
    "    print(f'- Training a *NEW* Expert model...')\n",
    "    expert_ppo.learn(EPISODES)\n",
    "    print(f'- Saving Expert model in {MODEL_FILE}')\n",
    "    expert_ppo.save(MODEL_FILE)\n",
    "else:\n",
    "    print(f'- Loading pre-tranined Expert model from {MODEL_FILE}')\n",
    "    expert_ppo = PPO.load(MODEL_FILE)"
   ]
  },
  {
   "cell_type": "code",
   "execution_count": 8,
   "metadata": {},
   "outputs": [],
   "source": [
    "# if TENSOR_BOARD:\n",
    "#     expert_a2c = A2C('MlpPolicy', env=mt_env, tensorboard_log=LOG_PATH)\n",
    "# else:\n",
    "#     expert_a2c = A2C('MlpPolicy', env=mt_env)\n",
    "\n",
    "# expert_a2c.learn(EPISODES)"
   ]
  },
  {
   "cell_type": "code",
   "execution_count": 9,
   "metadata": {},
   "outputs": [
    {
     "name": "stdout",
     "output_type": "stream",
     "text": [
      "PPO Expert reward: 4183.83\n"
     ]
    }
   ],
   "source": [
    "reward_ppo, _ = evaluate_policy(expert_ppo, mt_env, 5)\n",
    "print(f'PPO Expert reward: {reward_ppo:4.2f}')\n",
    "\n",
    "# reward_a2c, _ = evaluate_policy(expert_a2c, mt_env, 20)\n",
    "# print(f'A2C Expert reward: {reward_a2c:4.2f}')"
   ]
  },
  {
   "cell_type": "markdown",
   "metadata": {},
   "source": [
    "## 3. Train the student by applying IRL - using expert demonstrations\n",
    "\n",
    "- Use the expert to sample some trajectories.\n",
    "- Flatten them to obtain individual transitions for behavior cloning\n",
    "\n",
    "#### Implementation details: \n",
    "- Use `imitation` utilities - Collect 50 episode rollouts, then flatten them to just the transitions that we need for training.\n",
    "- `rollout` function requires a vectorized environment and needs the `RolloutInfoWrapper` around each of the environments\n",
    "- This is why we passed the `post_wrappers` argument to `make_vec_env` above."
   ]
  },
  {
   "cell_type": "code",
   "execution_count": 10,
   "metadata": {},
   "outputs": [
    {
     "name": "stdout",
     "output_type": "stream",
     "text": [
      "\n",
      " -- Milling tool environment initiatlized. Potential records 0. RUL threshold 0.000\n",
      "\n",
      " -- Milling tool environment initiatlized. Potential records 1000. RUL threshold 0.050\n"
     ]
    }
   ],
   "source": [
    "# Vectorized environment: Use the `make_vec_env` helper function - make sure to pass `post_wrappers=[lambda env, _: RolloutInfoWrapper(env)]`\n",
    "env_kwargs = {'records':records, 'rul_threshold':rul_threshold}\n",
    "\n",
    "mt_venv = make_vec_env(\n",
    "    'custom/MillingToolEnv-v0',\n",
    "    env_make_kwargs=env_kwargs,\n",
    "    rng=np.random.default_rng(),\n",
    "    n_envs=1,\n",
    "    post_wrappers=[lambda mt_venv, _: RolloutInfoWrapper(mt_venv)],\n",
    ")"
   ]
  },
  {
   "cell_type": "markdown",
   "metadata": {},
   "source": [
    "### Add tool wear data\n",
    "- IMPORTANT -- note how a vectorized env. methd is called\n",
    "- NOT like this >>  mt_venv.tool_wear_data(df_train)"
   ]
  },
  {
   "cell_type": "code",
   "execution_count": 11,
   "metadata": {},
   "outputs": [
    {
     "name": "stdout",
     "output_type": "stream",
     "text": [
      "\n",
      " - Milling tool environment: Tool wear data updated: 1000\n"
     ]
    },
    {
     "data": {
      "text/plain": [
       "[None]"
      ]
     },
     "execution_count": 11,
     "metadata": {},
     "output_type": "execute_result"
    }
   ],
   "source": [
    "# Add tool wear data\n",
    "# IMPORTANT -- note how a vectorized env. methd is called\n",
    "# NOT like this >>  mt_venv.tool_wear_data(df_train)\n",
    "mt_venv.env_method('tool_wear_data', df_train)"
   ]
  },
  {
   "cell_type": "code",
   "execution_count": 12,
   "metadata": {},
   "outputs": [],
   "source": [
    "# if SAVED_DEMONSTRATIONS:\n",
    "#     print('Save these demonstrations')\n",
    "#     serialize.save('Trajectories\\', demonstrations)\n",
    "# else: \n",
    "    \n",
    "rng = np.random.default_rng()\n",
    "\n",
    "rollouts = rollout.rollout(\n",
    "    expert_ppo,\n",
    "    mt_venv,\n",
    "    rollout.make_sample_until(min_timesteps=None, min_episodes=SAMPLE_DEMONSTRATIONS),\n",
    "    rng = rng,\n",
    ")\n",
    "\n",
    "demonstrations = rollout.flatten_trajectories(rollouts)"
   ]
  },
  {
   "cell_type": "code",
   "execution_count": 13,
   "metadata": {},
   "outputs": [
    {
     "data": {
      "text/plain": [
       "[<matplotlib.lines.Line2D at 0x2aba94dea40>,\n",
       " <matplotlib.lines.Line2D at 0x2aba94deaa0>,\n",
       " <matplotlib.lines.Line2D at 0x2aba94dead0>,\n",
       " <matplotlib.lines.Line2D at 0x2aba94debc0>,\n",
       " <matplotlib.lines.Line2D at 0x2aba94decb0>,\n",
       " <matplotlib.lines.Line2D at 0x2aba94deda0>]"
      ]
     },
     "execution_count": 13,
     "metadata": {},
     "output_type": "execute_result"
    },
    {
     "data": {
      "image/png": "[encoded data removed]",
      "text/plain": [
       "<Figure size 800x200 with 1 Axes>"
      ]
     },
     "metadata": {},
     "output_type": "display_data"
    },
    {
     "data": {
      "image/png": "[encoded data removed]",
      "text/plain": [
       "<Figure size 800x200 with 1 Axes>"
      ]
     },
     "metadata": {},
     "output_type": "display_data"
    }
   ],
   "source": [
    "obsvs = []\n",
    "acts = []\n",
    "\n",
    "for n in range(len(rollouts)):\n",
    "    acts.append(demonstrations.acts[n])\n",
    "    obsvs.append(demonstrations.obs[n])\n",
    "\n",
    "plt.figure(figsize=(8, 2))\n",
    "plt.title('Expert Actions')\n",
    "plt.plot(acts)\n",
    "\n",
    "plt.figure(figsize=(8, 2))\n",
    "plt.title('Sampled Observations')\n",
    "plt.plot(obsvs)"
   ]
  },
  {
   "cell_type": "markdown",
   "metadata": {},
   "source": [
    "## 3.2 Set up IRL algorithm\n",
    "- Set up our behavior cloning algorithm\n",
    "- Compute rewards before showing expert demonstrations"
   ]
  },
  {
   "cell_type": "code",
   "execution_count": 14,
   "metadata": {},
   "outputs": [],
   "source": [
    "from imitation.algorithms import bc\n",
    "from imitation.util import logger as imit_logger\n",
    "\n",
    "if TENSOR_BOARD:\n",
    "    # Set new logger\n",
    "    tmp_path_irl = f'{PATH}/tensorboard/irl_log/BC/'\n",
    "    new_logger_irl = imit_logger.configure(tmp_path_irl, [\"stdout\", \"csv\", \"tensorboard\"])\n",
    "\n",
    "    bc_trainer = bc.BC(\n",
    "        observation_space=mt_venv.observation_space,\n",
    "        action_space=mt_venv.action_space,\n",
    "        demonstrations=demonstrations,\n",
    "        batch_size=BATCH_SIZE,\n",
    "        rng=rng,\n",
    "        device='cpu',\n",
    "        custom_logger = new_logger_irl)\n",
    "else:\n",
    "    bc_trainer = bc.BC(\n",
    "        observation_space=mt_venv.observation_space,\n",
    "        action_space=mt_venv.action_space,\n",
    "        demonstrations=demonstrations,\n",
    "        batch_size=BATCH_SIZE,\n",
    "        rng=rng,\n",
    "        device='cpu')"
   ]
  },
  {
   "cell_type": "code",
   "execution_count": 15,
   "metadata": {},
   "outputs": [
    {
     "name": "stdout",
     "output_type": "stream",
     "text": [
      "Reward before training:  1177.631\n"
     ]
    }
   ],
   "source": [
    "reward_before_training, _ = evaluate_policy(bc_trainer.policy, mt_venv, EVALUATION_ROUNDS)\n",
    "print(f\"Reward before training: {reward_before_training: 4.3f}\")"
   ]
  },
  {
   "cell_type": "markdown",
   "metadata": {},
   "source": [
    "## 3.3 Apply IRL - BC algo.\n",
    "- Use expert demonstrations and learn the reward function - using Behavior Cloning algorithm\r",
    "- \n",
    "Compute reward and compares befor/aftere showing expert demonstrations"
   ]
  },
  {
   "cell_type": "code",
   "execution_count": 16,
   "metadata": {},
   "outputs": [
    {
     "name": "stderr",
     "output_type": "stream",
     "text": [
      "0batch [00:00, ?batch/s]"
     ]
    },
    {
     "name": "stdout",
     "output_type": "stream",
     "text": [
      "---------------------------------\n",
      "| batch_size        | 16        |\n",
      "| bc/               |           |\n",
      "|    batch          | 0         |\n",
      "|    ent_loss       | -0.000693 |\n",
      "|    entropy        | 0.693     |\n",
      "|    epoch          | 0         |\n",
      "|    l2_loss        | 0         |\n",
      "|    l2_norm        | 76.5      |\n",
      "|    loss           | 0.693     |\n",
      "|    neglogp        | 0.693     |\n",
      "|    prob_true_act  | 0.5       |\n",
      "|    samples_so_far | 16        |\n",
      "---------------------------------\n"
     ]
    },
    {
     "name": "stderr",
     "output_type": "stream",
     "text": [
      "486batch [00:02, 229.05batch/s]"
     ]
    },
    {
     "name": "stdout",
     "output_type": "stream",
     "text": [
      "---------------------------------\n",
      "| batch_size        | 16        |\n",
      "| bc/               |           |\n",
      "|    batch          | 500       |\n",
      "|    ent_loss       | -0.000647 |\n",
      "|    entropy        | 0.647     |\n",
      "|    epoch          | 0         |\n",
      "|    l2_loss        | 0         |\n",
      "|    l2_norm        | 77.1      |\n",
      "|    loss           | 0.617     |\n",
      "|    neglogp        | 0.618     |\n",
      "|    prob_true_act  | 0.56      |\n",
      "|    samples_so_far | 8016      |\n",
      "---------------------------------\n"
     ]
    },
    {
     "name": "stderr",
     "output_type": "stream",
     "text": [
      "978batch [00:04, 276.04batch/s]"
     ]
    },
    {
     "name": "stdout",
     "output_type": "stream",
     "text": [
      "--------------------------------\n",
      "| batch_size        | 16       |\n",
      "| bc/               |          |\n",
      "|    batch          | 1000     |\n",
      "|    ent_loss       | -0.00062 |\n",
      "|    entropy        | 0.62     |\n",
      "|    epoch          | 0        |\n",
      "|    l2_loss        | 0        |\n",
      "|    l2_norm        | 77.2     |\n",
      "|    loss           | 0.425    |\n",
      "|    neglogp        | 0.426    |\n",
      "|    prob_true_act  | 0.664    |\n",
      "|    samples_so_far | 16016    |\n",
      "--------------------------------\n"
     ]
    },
    {
     "name": "stderr",
     "output_type": "stream",
     "text": [
      "1488batch [00:06, 271.48batch/s]"
     ]
    },
    {
     "name": "stdout",
     "output_type": "stream",
     "text": [
      "---------------------------------\n",
      "| batch_size        | 16        |\n",
      "| bc/               |           |\n",
      "|    batch          | 1500      |\n",
      "|    ent_loss       | -0.000656 |\n",
      "|    entropy        | 0.656     |\n",
      "|    epoch          | 0         |\n",
      "|    l2_loss        | 0         |\n",
      "|    l2_norm        | 76.6      |\n",
      "|    loss           | 0.694     |\n",
      "|    neglogp        | 0.695     |\n",
      "|    prob_true_act  | 0.518     |\n",
      "|    samples_so_far | 24016     |\n",
      "---------------------------------\n"
     ]
    },
    {
     "name": "stderr",
     "output_type": "stream",
     "text": [
      "1991batch [00:08, 274.68batch/s]"
     ]
    },
    {
     "name": "stdout",
     "output_type": "stream",
     "text": [
      "---------------------------------\n",
      "| batch_size        | 16        |\n",
      "| bc/               |           |\n",
      "|    batch          | 2000      |\n",
      "|    ent_loss       | -0.000618 |\n",
      "|    entropy        | 0.618     |\n",
      "|    epoch          | 0         |\n",
      "|    l2_loss        | 0         |\n",
      "|    l2_norm        | 76.8      |\n",
      "|    loss           | 0.661     |\n",
      "|    neglogp        | 0.662     |\n",
      "|    prob_true_act  | 0.552     |\n",
      "|    samples_so_far | 32016     |\n",
      "---------------------------------\n"
     ]
    },
    {
     "name": "stderr",
     "output_type": "stream",
     "text": [
      "2485batch [00:10, 242.91batch/s]"
     ]
    },
    {
     "name": "stdout",
     "output_type": "stream",
     "text": [
      "---------------------------------\n",
      "| batch_size        | 16        |\n",
      "| bc/               |           |\n",
      "|    batch          | 2500      |\n",
      "|    ent_loss       | -0.000632 |\n",
      "|    entropy        | 0.632     |\n",
      "|    epoch          | 0         |\n",
      "|    l2_loss        | 0         |\n",
      "|    l2_norm        | 76.5      |\n",
      "|    loss           | 0.614     |\n",
      "|    neglogp        | 0.615     |\n",
      "|    prob_true_act  | 0.568     |\n",
      "|    samples_so_far | 40016     |\n",
      "---------------------------------\n"
     ]
    },
    {
     "name": "stderr",
     "output_type": "stream",
     "text": [
      "2989batch [00:12, 264.37batch/s]"
     ]
    },
    {
     "name": "stdout",
     "output_type": "stream",
     "text": [
      "---------------------------------\n",
      "| batch_size        | 16        |\n",
      "| bc/               |           |\n",
      "|    batch          | 3000      |\n",
      "|    ent_loss       | -0.000623 |\n",
      "|    entropy        | 0.623     |\n",
      "|    epoch          | 0         |\n",
      "|    l2_loss        | 0         |\n",
      "|    l2_norm        | 76.5      |\n",
      "|    loss           | 0.723     |\n",
      "|    neglogp        | 0.724     |\n",
      "|    prob_true_act  | 0.521     |\n",
      "|    samples_so_far | 48016     |\n",
      "---------------------------------\n"
     ]
    },
    {
     "name": "stderr",
     "output_type": "stream",
     "text": [
      "3486batch [00:14, 259.24batch/s]"
     ]
    },
    {
     "name": "stdout",
     "output_type": "stream",
     "text": [
      "---------------------------------\n",
      "| batch_size        | 16        |\n",
      "| bc/               |           |\n",
      "|    batch          | 3500      |\n",
      "|    ent_loss       | -0.000633 |\n",
      "|    entropy        | 0.633     |\n",
      "|    epoch          | 0         |\n",
      "|    l2_loss        | 0         |\n",
      "|    l2_norm        | 76.3      |\n",
      "|    loss           | 0.663     |\n",
      "|    neglogp        | 0.664     |\n",
      "|    prob_true_act  | 0.544     |\n",
      "|    samples_so_far | 56016     |\n",
      "---------------------------------\n"
     ]
    },
    {
     "name": "stderr",
     "output_type": "stream",
     "text": [
      "3982batch [00:17, 221.66batch/s]"
     ]
    },
    {
     "name": "stdout",
     "output_type": "stream",
     "text": [
      "---------------------------------\n",
      "| batch_size        | 16        |\n",
      "| bc/               |           |\n",
      "|    batch          | 4000      |\n",
      "|    ent_loss       | -0.000616 |\n",
      "|    entropy        | 0.616     |\n",
      "|    epoch          | 0         |\n",
      "|    l2_loss        | 0         |\n",
      "|    l2_norm        | 76.4      |\n",
      "|    loss           | 0.62      |\n",
      "|    neglogp        | 0.621     |\n",
      "|    prob_true_act  | 0.573     |\n",
      "|    samples_so_far | 64016     |\n",
      "---------------------------------\n"
     ]
    },
    {
     "name": "stderr",
     "output_type": "stream",
     "text": [
      "4496batch [00:19, 243.29batch/s]"
     ]
    },
    {
     "name": "stdout",
     "output_type": "stream",
     "text": [
      "---------------------------------\n",
      "| batch_size        | 16        |\n",
      "| bc/               |           |\n",
      "|    batch          | 4500      |\n",
      "|    ent_loss       | -0.000637 |\n",
      "|    entropy        | 0.637     |\n",
      "|    epoch          | 0         |\n",
      "|    l2_loss        | 0         |\n",
      "|    l2_norm        | 76        |\n",
      "|    loss           | 0.493     |\n",
      "|    neglogp        | 0.494     |\n",
      "|    prob_true_act  | 0.624     |\n",
      "|    samples_so_far | 72016     |\n",
      "---------------------------------\n"
     ]
    },
    {
     "name": "stderr",
     "output_type": "stream",
     "text": [
      "4980batch [00:21, 271.10batch/s]"
     ]
    },
    {
     "name": "stdout",
     "output_type": "stream",
     "text": [
      "--------------------------------\n",
      "| batch_size        | 16       |\n",
      "| bc/               |          |\n",
      "|    batch          | 5000     |\n",
      "|    ent_loss       | -0.00062 |\n",
      "|    entropy        | 0.62     |\n",
      "|    epoch          | 0        |\n",
      "|    l2_loss        | 0        |\n",
      "|    l2_norm        | 76       |\n",
      "|    loss           | 0.663    |\n",
      "|    neglogp        | 0.663    |\n",
      "|    prob_true_act  | 0.55     |\n",
      "|    samples_so_far | 80016    |\n",
      "--------------------------------\n"
     ]
    },
    {
     "name": "stderr",
     "output_type": "stream",
     "text": [
      "5495batch [00:23, 218.10batch/s]"
     ]
    },
    {
     "name": "stdout",
     "output_type": "stream",
     "text": [
      "---------------------------------\n",
      "| batch_size        | 16        |\n",
      "| bc/               |           |\n",
      "|    batch          | 5500      |\n",
      "|    ent_loss       | -0.000639 |\n",
      "|    entropy        | 0.639     |\n",
      "|    epoch          | 0         |\n",
      "|    l2_loss        | 0         |\n",
      "|    l2_norm        | 76        |\n",
      "|    loss           | 0.664     |\n",
      "|    neglogp        | 0.665     |\n",
      "|    prob_true_act  | 0.541     |\n",
      "|    samples_so_far | 88016     |\n",
      "---------------------------------\n"
     ]
    },
    {
     "name": "stderr",
     "output_type": "stream",
     "text": [
      "5616batch [00:23, 259.85batch/s]\n",
      "5616batch [00:23, 235.96batch/s]\u001b[A\n"
     ]
    }
   ],
   "source": [
    "bc_trainer.train(n_epochs=1)"
   ]
  },
  {
   "cell_type": "code",
   "execution_count": 17,
   "metadata": {},
   "outputs": [
    {
     "name": "stdout",
     "output_type": "stream",
     "text": [
      "------------------------------------------------------------------------------------------------------------------------\n",
      " **** IRL with Imitation Libraries and Milling environment ****\n",
      "------------------------------------------------------------------------------------------------------------------------\n",
      "15-Aug-2024  17:11:17\n",
      "Episodes: 4000\n",
      "Expert performance:             4183.825\n",
      "Apprentice performance: Before: 1177.631\n",
      "                        After:  4177.448\n"
     ]
    }
   ],
   "source": [
    "now = datetime.now()\n",
    "dt_string = now.strftime(\"%d-%b-%Y  %H:%M:%S\")\n",
    "reward_after_training, _ = evaluate_policy(bc_trainer.policy, mt_venv, EVALUATION_ROUNDS)\n",
    "\n",
    "print('-'*120)\n",
    "print(' **** IRL with Imitation Libraries and Milling environment ****')\n",
    "print('-'*120)\n",
    "\n",
    "print(dt_string)\n",
    "print(f'Episodes: {EPISODES}')\n",
    "print(f'Expert performance:             {reward_ppo:5.3f}')\n",
    "print(f'Apprentice performance: Before: {reward_before_training:5.3f}')\n",
    "print(f'                        After:  {reward_after_training:5.3f}')\n",
    "# print(f'Training time: {elapsed_time:5.3f} seconds')"
   ]
  },
  {
   "cell_type": "markdown",
   "metadata": {},
   "source": [
    "## Results\n",
    "```\n",
    "-------------------------------------------------------------------------------------\n",
    "| Date-time             | Episodes | Expert   | Apprentice-before |Apprentice-after |\n",
    "-------------------------------------------------------------------------------------\n",
    "| 07-Aug-2024  20:51:01 | 4000     | 4176.156 | 147.070           | 4180.070        |\n",
    "| 07-Aug-2024  21:53:24 |  400     | 4176.033 | 536.258           | 4174.686        |\n",
    "| 07-Aug-2024  21:53:24 | 4000     | 4176.033 | 536.258           | 4174.686        |\n",
    "0\n",
    "```"
   ]
  },
  {
   "cell_type": "markdown",
   "metadata": {},
   "source": [
    "## 3.3.b Apply IRL - SQIL algo.\n",
    "- Use expert demonstrations and learn the reward function - using ## 3.3 Apply IRL (BC)\n",
    "- Use expert demonstrations and learn the reward function - using Behavior Cloning algorithm\n",
    "- Compute rewards and compare before/after showing expert demonstrations algorithm\n",
    "- Compute rewards and compare before/after showing expert demonstrations"
   ]
  },
  {
   "cell_type": "code",
   "execution_count": 18,
   "metadata": {},
   "outputs": [],
   "source": [
    "# from imitation.algorithms import sqil\n",
    "# from imitation.util import logger as imit_logger\n",
    "\n",
    "# if TENSOR_BOARD:\n",
    "#     # Set new logger\n",
    "#     tmp_path_irl = f'{PATH}/tensorboard/irl_log/SQIL/'\n",
    "#     new_logger_irl = imit_logger.configure(tmp_path_irl, [\"stdout\", \"csv\", \"tensorboard\"])\n",
    "    \n",
    "#     sqil_trainer = sqil.SQIL(   \n",
    "#         venv = mt_venv,\n",
    "#         demonstrations = transitions,\n",
    "#         policy='MlpPolicy',\n",
    "#         # device='cpu',\n",
    "#         custom_logger = new_logger_irl\n",
    "#     )\n",
    "# else: \n",
    "#     sqil_trainer = sqil.SQIL(   \n",
    "#         venv = mt_venv,\n",
    "#         demonstrations = demonstrations,\n",
    "#         policy='MlpPolicy')"
   ]
  },
  {
   "cell_type": "code",
   "execution_count": 19,
   "metadata": {},
   "outputs": [],
   "source": [
    "# reward_before_training, _ = evaluate_policy(sqil_trainer.policy, mt_venv, EVALUATION_ROUNDS)\n",
    "\n",
    "# # Note: set to 1_000_000 to obtain good results\n",
    "# sqil_trainer.train(total_timesteps = EPISODES)  \n",
    "\n",
    "# reward_after_training, _ = evaluate_policy(sqil_trainer.policy, mt_venv, EVALUATION_ROUNDS)\n",
    "\n",
    "# print(dt_string)\n",
    "# print(f'Episodes: {EPISODES}')\n",
    "# print(f'Rewards Before: {reward_before_training:5.3f} | After: {reward_after_training:5.3f}')"
   ]
  },
  {
   "cell_type": "code",
   "execution_count": 20,
   "metadata": {},
   "outputs": [
    {
     "name": "stdout",
     "output_type": "stream",
     "text": [
      "C:\\Users\\Rajesh\\AppData\\Local\\Temp\\dagger_example__tzive76\n"
     ]
    },
    {
     "name": "stderr",
     "output_type": "stream",
     "text": [
      "Saving the dataset (1/1 shards): 100%|████████████████████████████████████████████| 1/1 [00:00<00:00, 43.55 examples/s]\n",
      "Saving the dataset (1/1 shards): 100%|████████████████████████████████████████████| 1/1 [00:00<00:00, 85.85 examples/s]\n",
      "Saving the dataset (1/1 shards): 100%|████████████████████████████████████████████| 1/1 [00:00<00:00, 51.22 examples/s]\n",
      "0batch [00:00, ?batch/s]"
     ]
    },
    {
     "name": "stdout",
     "output_type": "stream",
     "text": [
      "---------------------------------\n",
      "| batch_size        | 16        |\n",
      "| bc/               |           |\n",
      "|    batch          | 0         |\n",
      "|    ent_loss       | -0.000619 |\n",
      "|    entropy        | 0.619     |\n",
      "|    epoch          | 0         |\n",
      "|    l2_loss        | 0         |\n",
      "|    l2_norm        | 76.1      |\n",
      "|    loss           | 0.37      |\n",
      "|    neglogp        | 0.37      |\n",
      "|    prob_true_act  | 0.691     |\n",
      "|    samples_so_far | 16        |\n",
      "| rollout/          |           |\n",
      "|    return_max     | 3.02e+03  |\n",
      "|    return_mean    | 2.93e+03  |\n",
      "|    return_min     | 2.81e+03  |\n",
      "|    return_std     | 79.1      |\n",
      "---------------------------------\n"
     ]
    },
    {
     "name": "stderr",
     "output_type": "stream",
     "text": [
      "142batch [00:25, 17.47batch/s]\n",
      "323batch [00:26, 101.33batch/s][A\n",
      "495batch [00:43, 231.69batch/s]\u001b[A"
     ]
    },
    {
     "name": "stdout",
     "output_type": "stream",
     "text": [
      "---------------------------------\n",
      "| batch_size        | 16        |\n",
      "| bc/               |           |\n",
      "|    batch          | 500       |\n",
      "|    ent_loss       | -4.08e-06 |\n",
      "|    entropy        | 0.00408   |\n",
      "|    epoch          | 2         |\n",
      "|    l2_loss        | 0         |\n",
      "|    l2_norm        | 85.4      |\n",
      "|    loss           | 0.000468  |\n",
      "|    neglogp        | 0.000472  |\n",
      "|    prob_true_act  | 1         |\n",
      "|    samples_so_far | 8016      |\n",
      "| rollout/          |           |\n",
      "|    return_max     | 4.19e+03  |\n",
      "|    return_mean    | 4.18e+03  |\n",
      "|    return_min     | 4.16e+03  |\n",
      "|    return_std     | 12.3      |\n",
      "---------------------------------\n"
     ]
    },
    {
     "name": "stderr",
     "output_type": "stream",
     "text": [
      "501batch [00:52,  2.76batch/s] \n",
      "644batch [00:52, 19.79batch/s]\u001b[A\n",
      "668batch [00:52, 12.62batch/s]\u001b[A\n",
      "Saving the dataset (1/1 shards): 100%|████████████████████████████████████████████| 1/1 [00:00<00:00, 95.92 examples/s]\n",
      "Saving the dataset (1/1 shards): 100%|███████████████████████████████████████████| 1/1 [00:00<00:00, 118.87 examples/s]\n",
      "Saving the dataset (1/1 shards): 100%|████████████████████████████████████████████| 1/1 [00:00<00:00, 50.02 examples/s]\n",
      "0batch [00:00, ?batch/s]"
     ]
    },
    {
     "name": "stdout",
     "output_type": "stream",
     "text": [
      "---------------------------------\n",
      "| batch_size        | 16        |\n",
      "| bc/               |           |\n",
      "|    batch          | 0         |\n",
      "|    ent_loss       | -3.03e-06 |\n",
      "|    entropy        | 0.00303   |\n",
      "|    epoch          | 0         |\n",
      "|    l2_loss        | 0         |\n",
      "|    l2_norm        | 85.7      |\n",
      "|    loss           | 0.000334  |\n",
      "|    neglogp        | 0.000337  |\n",
      "|    prob_true_act  | 1         |\n",
      "|    samples_so_far | 16        |\n",
      "| rollout/          |           |\n",
      "|    return_max     | 4.19e+03  |\n",
      "|    return_mean    | 4.18e+03  |\n",
      "|    return_min     | 4.15e+03  |\n",
      "|    return_std     | 14.6      |\n",
      "---------------------------------\n"
     ]
    },
    {
     "name": "stderr",
     "output_type": "stream",
     "text": [
      "315batch [00:26, 107.45batch/s]\n",
      "470batch [00:38, 167.93batch/s]\u001b[A"
     ]
    },
    {
     "name": "stdout",
     "output_type": "stream",
     "text": [
      "---------------------------------\n",
      "| batch_size        | 16        |\n",
      "| bc/               |           |\n",
      "|    batch          | 500       |\n",
      "|    ent_loss       | -1.67e-06 |\n",
      "|    entropy        | 0.00167   |\n",
      "|    epoch          | 1         |\n",
      "|    l2_loss        | 0         |\n",
      "|    l2_norm        | 86.4      |\n",
      "|    loss           | 0.000172  |\n",
      "|    neglogp        | 0.000173  |\n",
      "|    prob_true_act  | 1         |\n",
      "|    samples_so_far | 8016      |\n",
      "| rollout/          |           |\n",
      "|    return_max     | 4.19e+03  |\n",
      "|    return_mean    | 4.18e+03  |\n",
      "|    return_min     | 4.16e+03  |\n",
      "|    return_std     | 12.6      |\n",
      "---------------------------------\n"
     ]
    },
    {
     "name": "stderr",
     "output_type": "stream",
     "text": [
      "660batch [00:53, 26.63batch/s] \n",
      "992batch [01:08, 234.19batch/s][A"
     ]
    },
    {
     "name": "stdout",
     "output_type": "stream",
     "text": [
      "--------------------------------\n",
      "| batch_size        | 16       |\n",
      "| bc/               |          |\n",
      "|    batch          | 1000     |\n",
      "|    ent_loss       | -1.1e-06 |\n",
      "|    entropy        | 0.0011   |\n",
      "|    epoch          | 2        |\n",
      "|    l2_loss        | 0        |\n",
      "|    l2_norm        | 86.9     |\n",
      "|    loss           | 0.000107 |\n",
      "|    neglogp        | 0.000108 |\n",
      "|    prob_true_act  | 1        |\n",
      "|    samples_so_far | 16016    |\n",
      "| rollout/          |          |\n",
      "|    return_max     | 4.19e+03 |\n",
      "|    return_mean    | 4.19e+03 |\n",
      "|    return_min     | 4.18e+03 |\n",
      "|    return_std     | 6.86     |\n",
      "--------------------------------\n"
     ]
    },
    {
     "name": "stderr",
     "output_type": "stream",
     "text": [
      "1001batch [01:21,  2.78batch/s]\n",
      "1337batch [01:23, 132.21batch/s][A\n",
      "1352batch [01:23, 16.24batch/s] \u001b[A\n"
     ]
    }
   ],
   "source": [
    "import tempfile\n",
    "from imitation.algorithms.dagger import SimpleDAggerTrainer\n",
    "from imitation.policies.serialize import load_policy\n",
    "\n",
    "with tempfile.TemporaryDirectory(prefix=\"dagger_example_\") as tmpdir:\n",
    "    print(tmpdir)\n",
    "    dagger_trainer = SimpleDAggerTrainer(\n",
    "        venv = mt_venv,\n",
    "        scratch_dir = tmpdir,\n",
    "        expert_policy = expert_ppo,\n",
    "        bc_trainer = bc_trainer,\n",
    "        rng=rng,\n",
    "    )\n",
    "    dagger_trainer.train(EPISODES)"
   ]
  },
  {
   "cell_type": "code",
   "execution_count": 21,
   "metadata": {},
   "outputs": [
    {
     "name": "stdout",
     "output_type": "stream",
     "text": [
      "Reward: 4175.545\n"
     ]
    }
   ],
   "source": [
    "reward_DG, _ = evaluate_policy(dagger_trainer.policy, mt_venv, EVALUATION_ROUNDS)\n",
    "print(\"Reward:\", reward_DG)"
   ]
  },
  {
   "cell_type": "code",
   "execution_count": 22,
   "metadata": {},
   "outputs": [
    {
     "name": "stdout",
     "output_type": "stream",
     "text": [
      "Episodes: 4000\n",
      "Expert performance:             4183.825\n",
      "Apprentice performance - BCO:    Before: 1177.631\n",
      "Apprentice performance - BCO:    After:  4177.448\n",
      "Apprentice performance - DAgger: Before: 4175.545\n"
     ]
    }
   ],
   "source": [
    "print(f'Episodes: {EPISODES}')\n",
    "print(f'Expert performance:             {reward_ppo:5.3f}')\n",
    "print(f'Apprentice performance - BCO:    Before: {reward_before_training:5.3f}')\n",
    "print(f'Apprentice performance - BCO:    After:  {reward_after_training:5.3f}')\n",
    "print(f'Apprentice performance - DAgger: Before: {reward_DG:5.3f}')\n",
    "# print(f'Training time: {elapsed_time:5.3f} seconds')"
   ]
  },
  {
   "cell_type": "code",
   "execution_count": null,
   "metadata": {},
   "outputs": [],
   "source": []
  }
 ],
 "metadata": {
  "interpreter": {
   "hash": "bd378ce8f53beae712f05342da42c6a7612fc68b19bea03b52c7b1cdc8851b5f"
  },
  "kernelspec": {
   "display_name": "Python 3 (ipykernel)",
   "language": "python",
   "name": "python3"
  },
  "language_info": {
   "codemirror_mode": {
    "name": "ipython",
    "version": 3
   },
   "file_extension": ".py",
   "mimetype": "text/x-python",
   "name": "python",
   "nbconvert_exporter": "python",
   "pygments_lexer": "ipython3",
   "version": "3.10.11"
  }
 },
 "nbformat": 4,
 "nbformat_minor": 4
}
