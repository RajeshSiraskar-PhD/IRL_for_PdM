{
 "cells": [
  {
   "cell_type": "markdown",
   "metadata": {},
   "source": [
    "# Train a PdM Agent using Behavior Cloning\n",
    "\n",
    "- 25-Jul-2024: V.1.0 - Re-create\n",
    "- 28-Jul-2024: V.1.1 - Add logging\n",
    "- 28-Jul-2024: V.2.0 - Add other algos to compare with BC\n",
    "  1. SQIL is straightforward and similar to BC implementation \n",
    "  2. Adversarial IRL and GAIL - appear to require Discriminator and therefore a \"Reward Net\" - more complex so do next"
   ]
  },
  {
   "cell_type": "code",
   "execution_count": 1,
   "metadata": {},
   "outputs": [],
   "source": [
    "DATA_FILE = 'PHM_C01.csv'\n",
    "WEAR_THRESHOLD = wear_thresholds['W1']\n",
    "\n",
    "# training_expts = ['W1', 'W2','W3','W4']\n",
    "# wear_thresholds = {'W1':0.229, 'W2':0.12, 'W3':0.12, 'W4':0.2} # Based on 'observation'\n",
    "\n",
    "SAMPLING_RATE = 1\n",
    "ADD_NOISE = 0\n",
    "\n",
    "column_names = ['timestamp', 'vibration_x', 'vibration_y', 'force_z', 'tool_wear']"
   ]
  },
  {
   "cell_type": "code",
   "execution_count": 2,
   "metadata": {},
   "outputs": [],
   "source": [
    "from matplotlib.pyplot import figure\n",
    "import matplotlib.pyplot as plt\n",
    "\n",
    "from utilities import downsample"
   ]
  },
  {
   "cell_type": "code",
   "execution_count": 3,
   "metadata": {},
   "outputs": [],
   "source": [
    "import gym\n",
    "from gym import spaces\n",
    "import pandas as pd\n",
    "import numpy as np\n",
    "\n",
    "LAMBDA = 0.01\n",
    "\n",
    "NO_ACTION = 0\n",
    "REPLACE = 1\n",
    "\n",
    "MAX_OP_CYCLES = 0.0 # \n",
    "\n",
    "time_since_last_replacement = 0\n",
    "\n",
    "a_time = []\n",
    "a_cost = []\n",
    "a_action_recommended = []\n",
    "a_actions = []\n",
    "a_action_text = []\n",
    "a_rul = []\n",
    "a_rewards = []\n",
    "a_replacements = []\n",
    "a_time_since_last_replacement = []\n",
    "\n",
    "class MillingTool(gym.Env):\n",
    "    \"\"\"Custom Milling Tool Wear Environment that follows the Open AI gym interface.\n",
    "    Single-variate env. Terminate on (1) tool breakdown (2) data-end (3) milling operations end.\n",
    "    \"\"\"\n",
    "\n",
    "    metadata = {\"render.modes\": [\"human\"]}\n",
    "\n",
    "    def __init__(self, df = None, wear_threshold=1.0, max_operations=100, add_noise=0.0, breakdown_chance=0.0, R1=1.0, R2=-1.0, R3=-100.0):\n",
    "        print(f'** -- Milling Tool Wear Single-variate env. Wear_threshold: {wear_threshold:.4f} R1: {R1}, R2: {R2}, R3: {R3}. Noise: {add_noise}. Break-down chance: {breakdown_chance} -- **')\n",
    "\n",
    "        # Machine data frame properties\n",
    "        if df is not None:\n",
    "            self.df = df\n",
    "            self.records = len(self.df.index)\n",
    "        else:\n",
    "            self.records = -1 # Indicates - no dataframe\n",
    "        # self.df_index = 0\n",
    "\n",
    "        # Initialization\n",
    "        self.current_time_step = 0  # Initial state, this will be INCREMENTED every step\n",
    "        # self.max_op_cycles = max_op_cycles    # Store max life (max RUL) of tool\n",
    "        self.tool_failure_thresholds = tool_failure_thresholds # Product quality unacceptable - must replace\n",
    "        self.tool_failure_times = tool_failure_times\n",
    "        # self.rul = self.df.loc[self.current_time_step, 'RUL']   # Initial RUL, this will be DECREMENTED every step. Also the DONE condition\n",
    "        # self.rul = self.starting_rul \n",
    "        self.time_at_replacement = 0\n",
    "        self.time_since_last_replacement = 0\n",
    "        self.maintenance_cost = 0.0        \n",
    "        self.replacement_events = 0\n",
    "        self.reward = 0.0\n",
    "        self.current_action = NO_ACTION\n",
    "        \n",
    "        # Observation vector: Time, vibration, force\n",
    "        # column_names = ['timestamp', 'vibration_x', 'vibration_y', 'force_z', 'tool_wear', 'RUL', 'ACTION_CODE']\n",
    "        # Observation space upper limits\n",
    "        high = np.array(\n",
    "            [\n",
    "                self.records, # Max time\n",
    "                1.0,          # Max. vibration_x\n",
    "                1.0,          # Max. vibration_y\n",
    "                1.0,          # Max. force_z\n",
    "            ],\n",
    "            dtype=np.float32,\n",
    "        )\n",
    "\n",
    "        # observation space lower limits\n",
    "        low = np.array(\n",
    "            [\n",
    "                0,            # Min. time\n",
    "                -1.0,         # Min. vibration_x\n",
    "                -1.0,         # Min. vibration_y\n",
    "                -1.0,         # Min. force_z\n",
    "            ],\n",
    "            dtype=np.float32,\n",
    "        )\n",
    "        \n",
    "        self.action_space = spaces.Discrete(2) # Normal and replace\n",
    "        self.observation_space = spaces.Box(low, high, dtype=np.float32)\n",
    "        self.state = None\n",
    "        print(f'Milling tool environment initiated. Number of experiments: {len(self.tool_failure_thresholds)}. Number of records: {self.records}')\n",
    "            \n",
    "    def _next_observation(self):\n",
    "        frame = np.array([\n",
    "            self.df.loc[self.current_time_step, 'time'],\n",
    "            self.df.loc[self.current_time_step, 'vibration_x'],\n",
    "            self.df.loc[self.current_time_step, 'vibration_y'],\n",
    "            self.df.loc[self.current_time_step, 'force_z'],\n",
    "        ])\n",
    "        \n",
    "        # Append additional data and scale each value to between 0-1\n",
    "        obs = frame.flatten()\n",
    "        return obs\n",
    "\n",
    "    def _take_action(self, action):\n",
    "\n",
    "        if action == NO_ACTION: # Normal state\n",
    "            # 1% reduction in life\n",
    "            self.maintenance_cost += 0.1            \n",
    "            self.current_time_step += 1\n",
    "            action_text = 'None'\n",
    "                        \n",
    "        elif action == REPLACE:\n",
    "            # Replace the tool -- Starting RUL will now be random but around the RUL we have\n",
    "            self.maintenance_cost += 10.0            \n",
    "            self.replacement_events += 1            \n",
    "            # self.time_since_last_replacement = self.current_time_step - self.time_at_replacement\n",
    "            # self.time_at_replacement = self.current_time_step\n",
    "            self.time_since_last_replacement = self.current_time_step\n",
    "            # self.current_time_step = 0\n",
    "            a_time_since_last_replacement.append(self.time_since_last_replacement)\n",
    "            print(f' ============ Time since last replacement: {self.time_since_last_replacement} ==============')            \n",
    "            action_text = '* REPLACE *' \n",
    "                    \n",
    "        self.reward = (self.current_time_step + 1) / (self.maintenance_cost+LAMBDA)\n",
    "        \n",
    "        a_actions.append(action)\n",
    "        a_action_text.append(action_text)\n",
    "\n",
    "        print('{0:<20} | RUL: {1:>8.2f} | Cost: {2:>8.2f} | Reward: {3:>12.3f}'.format(action_text, self.rul, self.maintenance_cost, self.reward))\n",
    "                 \n",
    "        self.state = (self.rul, self.maintenance_cost, action)\n",
    "\n",
    "\n",
    "    ## Step function\n",
    "    #  This is a time step:\n",
    "    #   1. Take action, and assign reward (calls _take_action())\n",
    "    #   2. Increment the time-step i.e. self.current_time_step ++\n",
    "    #   3. Decrease life i.e. self.rul = next lower RUL\n",
    "    def step(self, action):\n",
    "\n",
    "        ## Find the RUL\n",
    "        # self.rul = self.df.loc[self.current_time_step, 'RUL']\n",
    "        ## For this current time - take action\n",
    "        self._take_action(action)\n",
    "        reward = self.reward\n",
    "\n",
    "        ## Check for termination\n",
    "        #  Records over\n",
    "        if self.current_time_step >= (self.records-1):\n",
    "            self.current_time_step = 0\n",
    "            done = True\n",
    "        elif self.rul <= 1: # Less-than-equal 0 (or near zero)\n",
    "            done = True\n",
    "        else:\n",
    "            done = False\n",
    "\n",
    "        ## For this current time - record all values\n",
    "        a_time.append(self.current_time_step)\n",
    "        a_rewards.append(self.reward)\n",
    "        a_rul.append(self.rul)\n",
    "        a_cost.append(self.maintenance_cost)\n",
    "        # a_events.append(self.maintenance_events)\n",
    "        a_replacements.append(self.replacement_events)\n",
    "        # From database extract recommended action\n",
    "        recommended_action = self.df.loc[self.current_time_step, 'ACTION_CODE']\n",
    "\n",
    "        a_action_recommended.append(recommended_action)\n",
    "\n",
    "        ## Now, increment current time step\n",
    "        self.current_time_step += 1\n",
    "        self.time_since_last_replacement += 1\n",
    "        obs = self._next_observation()\n",
    "        \n",
    "        return obs, reward, done, {}\n",
    "\n",
    "    def reset(self):\n",
    "        # Reset environment variables and stats.\n",
    "        self.current_time_step = 0\n",
    "        self.reward = 0.0\n",
    "        self.rul = self.df.loc[self.current_time_step, 'RUL']\n",
    "        print('\\n --- RESET. Starting RUL = ', self.rul)\n",
    "\n",
    "        # Reset the state of the environment to an initial state\n",
    "        self.time_since_last_replacement = 0\n",
    "        self.maintenance_cost = 0.0\n",
    "        # self.maintenance_events = 0\n",
    "        self.replacement_events = 0\n",
    "        self.reward = 0.0\n",
    "        self.current_action = NO_ACTION\n",
    "\n",
    "        ## For this current time - record all values\n",
    "        a_time.append(self.current_time_step)\n",
    "        \n",
    "\n",
    "        a_replacements.append(self.replacement_events)\n",
    "        a_rewards.append(self.reward)\n",
    "        a_rul.append(self.rul)\n",
    "        a_cost.append(self.maintenance_cost)\n",
    "        print(120*'=')\n",
    "        print(f'==================== RESET: Maintenance cost reset: {self.maintenance_cost} Time since last replacement: {self.time_since_last_replacement}====================')\n",
    "        print(120*'=')\n",
    "        # a_events.append(self.maintenance_events)\n",
    "\n",
    "        # Reset done before returning\n",
    "        done = False\n",
    "\n",
    "        return np.array(self.state, dtype=np.float32)\n",
    "\n",
    "    def render(self, mode='human', close=False):\n",
    "        # Render the environment to the screen\n",
    "        RUL = self.rul\n",
    "        \n",
    "        # print('>> {0:<20} | RUL: {1:>8.2f} | Cost: {2:>8.2f} | Reward: {3:>12.3f}'.\n",
    "            #   format(self.current_action, self.rul, self.maintenance_cost, self.reward))"
   ]
  },
  {
   "cell_type": "code",
   "execution_count": 4,
   "metadata": {},
   "outputs": [],
   "source": [
    "def tool_wear_data(data_file, wear_threshold, normalize=False, add_noise=False, sampling_rate=1):\n",
    "    ## Read data\n",
    "    df_raw = pd.read_csv(data_file)\n",
    "\n",
    "    df = downsample(df_raw, sampling_rate)\n",
    "\n",
    "    # Reset index as the downsampling disturbs the index and then PPO.learn() fails. Gives a \"Key error\"\n",
    "    df = df.reset_index(drop=True)\n",
    "    n_points = len(df.index)\n",
    "\n",
    "    # 1. Add white noise for robustness\n",
    "    if add_noise:\n",
    "        df['tool_wear'] = df['tool_wear'] + np.random.normal(0, 1, n_points)/add_noise\n",
    "\n",
    "    # Normalize\n",
    "    if normalize:\n",
    "        WEAR_MIN = df['tool_wear'].min() \n",
    "        WEAR_MAX = df['tool_wear'].max()\n",
    "        # WEAR_THRESHOLD_NORMALIZED = THRESHOLD_FACTOR*(wear_threshold-WEAR_MIN)/(WEAR_MAX-WEAR_MIN)\n",
    "        WEAR_THRESHOLD_NORMALIZED = 0\n",
    "        df_normalized = (df-df.min())/(df.max()-df.min())\n",
    "\n",
    "        # df_normalized['ACTION_CODE'] = np.where(df_normalized['tool_wear'] < WEAR_THRESHOLD_NORMALIZED, 0.0, 1.0)\n",
    "        # print(f'Tool wear data imported ({n_points} records). WEAR_THRESHOLD_NORMALIZED: {WEAR_THRESHOLD_NORMALIZED:4.3f}')\n",
    "\n",
    "        df_train = df_normalized.copy(deep=True)\n",
    "\n",
    "        tool_wear = df_normalized['tool_wear']\n",
    "        action_code_normalized = df_normalized['ACTION_CODE']\n",
    "        action_code = df['ACTION_CODE']\n",
    "        df_train['ACTION_CODE'] = df['ACTION_CODE']\n",
    "    else:\n",
    "        df_train = df.copy(deep=True)\n",
    "        tool_wear = df['tool_wear']\n",
    "        action_code = df['ACTION_CODE']\n",
    "\n",
    "    plt.figure(figsize=(10, 2.5))\n",
    "    plt.plot(tool_wear, linewidth=1)\n",
    "\n",
    "    \n",
    "    if normalize:\n",
    "        plt.plot(action_code_normalized, linewidth=1)\n",
    "        wear_threshold_return = WEAR_THRESHOLD_NORMALIZED\n",
    "        # plt.axhline(y = WEAR_THRESHOLD_NORMALIZED, color = 'r', linestyle = '--', alpha=0.3) \n",
    "    else:\n",
    "        plt.plot(action_code/4, linewidth=1)\n",
    "        wear_threshold_return = wear_threshold\n",
    "        # plt.axhline(y = wear_threshold, color = 'r', linestyle = '--', alpha=0.3) \n",
    "\n",
    "    plt.title(f'Tool wear (IEEE NUAA W1, W2, W3 and W4)')\n",
    "    plt.grid(color='lightgray', linestyle='-', linewidth=0.5)\n",
    "    plt.show()\n",
    "\n",
    "    return tool_wear, action_code, wear_threshold_return, df_train"
   ]
  },
  {
   "cell_type": "code",
   "execution_count": 7,
   "metadata": {},
   "outputs": [
    {
     "name": "stdout",
     "output_type": "stream",
     "text": [
      "- Down-sampling. Input data records: 102. Sampling rate: 1. Expected rows 102.    Down-sampled to 102 rows.\n"
     ]
    },
    {
     "data": {
      "image/png": "[encoded data removed]",
      "text/plain": [
       "<Figure size 1000x250 with 1 Axes>"
      ]
     },
     "metadata": {},
     "output_type": "display_data"
    },
    {
     "name": "stdout",
     "output_type": "stream",
     "text": [
      "Tool failure time-point: 1833.335\n"
     ]
    }
   ],
   "source": [
    "tool_wear, action_code, WEAR_THRESHOLD_NORMALIZED, df_train = tool_wear_data(\n",
    "    data_file=NUAA_DATA_FILE, wear_threshold = WEAR_THRESHOLD,\n",
    "    normalize=False, add_noise=ADD_NOISE, sampling_rate = SAMPLING_RATE)\n",
    "\n",
    "\n",
    "failure_point = df_train.loc[df_train['ACTION_CODE'] == 1].iloc[0]\n",
    "TOOL_FAILURE_TIME = failure_point['timestamp']\n",
    "print(f'Tool failure time-point: {TOOL_FAILURE_TIME:3.3f}')"
   ]
  },
  {
   "cell_type": "code",
   "execution_count": 5,
   "metadata": {},
   "outputs": [],
   "source": [
    "TOOL_FAILURE_TIME=0"
   ]
  },
  {
   "cell_type": "code",
   "execution_count": 6,
   "metadata": {},
   "outputs": [],
   "source": [
    "import warnings\n",
    "from tqdm import tqdm # Progress bar\n",
    "from datetime import datetime\n",
    "warnings.filterwarnings('ignore')\n",
    "\n",
    "# General libraries\n",
    "import pandas as pd\n",
    "import numpy as np\n",
    "\n",
    "# RL libraries\n",
    "import gymnasium as gym\n",
    "from stable_baselines3.common.env_checker import check_env\n",
    "from stable_baselines3.common.evaluation import evaluate_policy\n",
    "from stable_baselines3 import PPO, A2C\n",
    "from stable_baselines3.ppo import MlpPolicy\n",
    "from torch.utils.tensorboard import SummaryWriter\n",
    "\n",
    "# CH-AI Imitation libraries\n",
    "from imitation.util.util import make_vec_env\n",
    "from imitation.data import rollout\n",
    "from imitation.data.wrappers import RolloutInfoWrapper\n",
    "\n",
    "# Custom libraries\n",
    "# from milling_tool_env import MillingTool"
   ]
  },
  {
   "cell_type": "code",
   "execution_count": 9,
   "metadata": {},
   "outputs": [
    {
     "name": "stdout",
     "output_type": "stream",
     "text": [
      "Tensorboard logging to D:/ResearchLab/IRL/BC_for_PdM_July_2024//tensorboard/30-Jul-2024_21_43/\n"
     ]
    }
   ],
   "source": [
    "now = datetime.now()\n",
    "dt_string = now.strftime(\"%d-%b-%Y  %H:%M:%S\")\n",
    "\n",
    "PATH = 'D:/ResearchLab/IRL/BC_for_PdM_July_2024/'\n",
    "LOG_PATH = f'{PATH}/tensorboard/{now.strftime(\"%d-%b-%Y_%H_%M\")}/'\n",
    "writer = SummaryWriter(LOG_PATH)\n",
    "print(f'Tensorboard logging to {LOG_PATH}')"
   ]
  },
  {
   "cell_type": "code",
   "execution_count": 7,
   "metadata": {},
   "outputs": [],
   "source": [
    "SAMPLE_DEMONSTRATIONS = 10\n",
    "EPISODES = 200 # Train the Expert for N episodes\n",
    "BATCH_SIZE = 16 \n",
    "LEARNING_RATE = int(1e-3)\n",
    "EVALUATION_ROUNDS = 10\n",
    "\n",
    "# Milling tool env.\n",
    "DATA_FILE = 'PHM_C01.csv'\n",
    "R1, R2, R3 = 2.0, -1.0, -20.0\n",
    "WEAR_THRESHOLD = 0.12 # mm\n",
    "THRESHOLD_FACTOR = 1.0\n",
    "ADD_NOISE = 0 # 0=No noise, Low=1e3, High=1e2 \n",
    "BREAKDOWN_CHANCE = 0 # Recommended: 0.05 = 5%\n",
    "MILLING_OPERATIONS_MAX = 300"
   ]
  },
  {
   "cell_type": "markdown",
   "metadata": {},
   "source": [
    "## 1. Creating the PdM Milling tool environment"
   ]
  },
  {
   "cell_type": "code",
   "execution_count": 8,
   "metadata": {},
   "outputs": [
    {
     "name": "stdout",
     "output_type": "stream",
     "text": [
      "Tool wear data imported (1000 records). WEAR_THRESHOLD_NORMALIZED: 0.574\n"
     ]
    }
   ],
   "source": [
    "## Read tool-wear data\n",
    "df = pd.read_csv(DATA_FILE)\n",
    "WEAR_MIN = df['tool_wear'].min() \n",
    "WEAR_MAX = df['tool_wear'].max()\n",
    "WEAR_THRESHOLD_NORMALIZED = THRESHOLD_FACTOR*(WEAR_THRESHOLD-WEAR_MIN)/(WEAR_MAX-WEAR_MIN)\n",
    "df_normalized = (df-df.min())/(df.max()-df.min())\n",
    "df_normalized['ACTION_CODE'] = np.where(df_normalized['tool_wear'] < WEAR_THRESHOLD_NORMALIZED, 0.0, 1.0)\n",
    "print(f'Tool wear data imported ({len(df.index)} records). WEAR_THRESHOLD_NORMALIZED: {WEAR_THRESHOLD_NORMALIZED:4.3f}')\n",
    "df_train = df_normalized\n",
    "\n",
    "# gym.register(\n",
    "#     id = 'custom/MillingTool-v0',\n",
    "#     entry_point = MillingTool,\n",
    "#     max_episode_steps = MILLING_OPERATIONS_MAX,\n",
    "# )\n",
    "\n",
    "# # Vectorized environment: Use the `make_vec_env` helper function - make sure to pass `post_wrappers=[lambda env, _: RolloutInfoWrapper(env)]`\n",
    "# env_kwargs = {'df':df_train, 'wear_threshold':WEAR_THRESHOLD_NORMALIZED, 'max_operations':MILLING_OPERATIONS_MAX,\n",
    "#                'add_noise':ADD_NOISE, 'breakdown_chance':BREAKDOWN_CHANCE, 'R1':R1, 'R2':R2, 'R3':R3}\n",
    "\n",
    "# mt_venv = make_vec_env(\n",
    "#     'custom/MillingTool-v0',\n",
    "#     env_make_kwargs=env_kwargs,\n",
    "#     rng=np.random.default_rng(),\n",
    "#     n_envs=1,\n",
    "#     post_wrappers=[lambda mt_venv, _: RolloutInfoWrapper(mt_venv)],\n",
    "# )"
   ]
  },
  {
   "cell_type": "code",
   "execution_count": 9,
   "metadata": {},
   "outputs": [
    {
     "name": "stdout",
     "output_type": "stream",
     "text": [
      "None\n",
      "\n",
      "\n",
      "** -- NUAA Milling Tool Wear environment. Error: NO TOOL WEAR DATA SUPPLIED !! -- **\n",
      "\n",
      "\n",
      "Milling tool environment initiated. Number of experiments: 1. Number of records: -1\n"
     ]
    },
    {
     "ename": "AssertionError",
     "evalue": "action space does not inherit from `gymnasium.spaces.Space`, actual type: <class 'gym.spaces.discrete.Discrete'>",
     "output_type": "error",
     "traceback": [
      "\u001b[1;31m---------------------------------------------------------------------------\u001b[0m",
      "\u001b[1;31mAssertionError\u001b[0m                            Traceback (most recent call last)",
      "Cell \u001b[1;32mIn[9], line 11\u001b[0m\n\u001b[0;32m      7\u001b[0m \u001b[38;5;66;03m# Vectorized environment: Use the `make_vec_env` helper function - make sure to pass `post_wrappers=[lambda env, _: RolloutInfoWrapper(env)]`\u001b[39;00m\n\u001b[0;32m      8\u001b[0m env_kwargs \u001b[38;5;241m=\u001b[39m {\u001b[38;5;124m'\u001b[39m\u001b[38;5;124mdf\u001b[39m\u001b[38;5;124m'\u001b[39m:df_train, \u001b[38;5;124m'\u001b[39m\u001b[38;5;124mmax_op_cycles\u001b[39m\u001b[38;5;124m'\u001b[39m:MILLING_OPERATIONS_MAX, \u001b[38;5;124m'\u001b[39m\u001b[38;5;124mtool_failure_thresholds\u001b[39m\u001b[38;5;124m'\u001b[39m:WEAR_THRESHOLD_NORMALIZED, \n\u001b[0;32m      9\u001b[0m               \u001b[38;5;124m'\u001b[39m\u001b[38;5;124mtool_failure_times\u001b[39m\u001b[38;5;124m'\u001b[39m:TOOL_FAILURE_TIME}\n\u001b[1;32m---> 11\u001b[0m mt_venv_nuaa \u001b[38;5;241m=\u001b[39m \u001b[43mmake_vec_env\u001b[49m\u001b[43m(\u001b[49m\n\u001b[0;32m     12\u001b[0m \u001b[43m    \u001b[49m\u001b[38;5;124;43m'\u001b[39;49m\u001b[38;5;124;43mcustom/MillingToolNUAA-v0\u001b[39;49m\u001b[38;5;124;43m'\u001b[39;49m\u001b[43m,\u001b[49m\n\u001b[0;32m     13\u001b[0m \u001b[43m    \u001b[49m\u001b[43menv_make_kwargs\u001b[49m\u001b[38;5;241;43m=\u001b[39;49m\u001b[43menv_kwargs\u001b[49m\u001b[43m,\u001b[49m\n\u001b[0;32m     14\u001b[0m \u001b[43m    \u001b[49m\u001b[43mrng\u001b[49m\u001b[38;5;241;43m=\u001b[39;49m\u001b[43mnp\u001b[49m\u001b[38;5;241;43m.\u001b[39;49m\u001b[43mrandom\u001b[49m\u001b[38;5;241;43m.\u001b[39;49m\u001b[43mdefault_rng\u001b[49m\u001b[43m(\u001b[49m\u001b[43m)\u001b[49m\u001b[43m,\u001b[49m\n\u001b[0;32m     15\u001b[0m \u001b[43m    \u001b[49m\u001b[43mn_envs\u001b[49m\u001b[38;5;241;43m=\u001b[39;49m\u001b[38;5;241;43m1\u001b[39;49m\u001b[43m,\u001b[49m\n\u001b[0;32m     16\u001b[0m \u001b[43m    \u001b[49m\u001b[43mpost_wrappers\u001b[49m\u001b[38;5;241;43m=\u001b[39;49m\u001b[43m[\u001b[49m\u001b[38;5;28;43;01mlambda\u001b[39;49;00m\u001b[43m \u001b[49m\u001b[43mmt_venv_nuaa\u001b[49m\u001b[43m,\u001b[49m\u001b[43m \u001b[49m\u001b[43m_\u001b[49m\u001b[43m:\u001b[49m\u001b[43m \u001b[49m\u001b[43mRolloutInfoWrapper\u001b[49m\u001b[43m(\u001b[49m\u001b[43mmt_venv_nuaa\u001b[49m\u001b[43m)\u001b[49m\u001b[43m]\u001b[49m\u001b[43m,\u001b[49m\n\u001b[0;32m     17\u001b[0m \u001b[43m)\u001b[49m\n",
      "File \u001b[1;32m~\\anaconda3\\envs\\RL\\lib\\site-packages\\imitation\\util\\util.py:117\u001b[0m, in \u001b[0;36mmake_vec_env\u001b[1;34m(env_name, rng, n_envs, parallel, log_dir, max_episode_steps, post_wrappers, env_make_kwargs)\u001b[0m\n\u001b[0;32m     91\u001b[0m \u001b[38;5;250m\u001b[39m\u001b[38;5;124;03m\"\"\"Makes a vectorized environment.\u001b[39;00m\n\u001b[0;32m     92\u001b[0m \n\u001b[0;32m     93\u001b[0m \u001b[38;5;124;03mArgs:\u001b[39;00m\n\u001b[1;32m   (...)\u001b[0m\n\u001b[0;32m    112\u001b[0m \u001b[38;5;124;03m    A VecEnv initialized with `n_envs` environments.\u001b[39;00m\n\u001b[0;32m    113\u001b[0m \u001b[38;5;124;03m\"\"\"\u001b[39;00m\n\u001b[0;32m    114\u001b[0m \u001b[38;5;66;03m# Resolve the spec outside of the subprocess first, so that it is available to\u001b[39;00m\n\u001b[0;32m    115\u001b[0m \u001b[38;5;66;03m# subprocesses running `make_env` via automatic pickling.\u001b[39;00m\n\u001b[0;32m    116\u001b[0m \u001b[38;5;66;03m# Just to ensure packages are imported and spec is properly resolved\u001b[39;00m\n\u001b[1;32m--> 117\u001b[0m tmp_env \u001b[38;5;241m=\u001b[39m \u001b[43mgym\u001b[49m\u001b[38;5;241;43m.\u001b[39;49m\u001b[43mmake\u001b[49m\u001b[43m(\u001b[49m\u001b[43menv_name\u001b[49m\u001b[43m)\u001b[49m\n\u001b[0;32m    118\u001b[0m tmp_env\u001b[38;5;241m.\u001b[39mclose()\n\u001b[0;32m    119\u001b[0m spec \u001b[38;5;241m=\u001b[39m tmp_env\u001b[38;5;241m.\u001b[39mspec\n",
      "File \u001b[1;32m~\\anaconda3\\envs\\RL\\lib\\site-packages\\gymnasium\\envs\\registration.py:861\u001b[0m, in \u001b[0;36mmake\u001b[1;34m(id, max_episode_steps, autoreset, apply_api_compatibility, disable_env_checker, **kwargs)\u001b[0m\n\u001b[0;32m    857\u001b[0m \u001b[38;5;66;03m# Run the environment checker as the lowest level wrapper\u001b[39;00m\n\u001b[0;32m    858\u001b[0m \u001b[38;5;28;01mif\u001b[39;00m disable_env_checker \u001b[38;5;129;01mis\u001b[39;00m \u001b[38;5;28;01mFalse\u001b[39;00m \u001b[38;5;129;01mor\u001b[39;00m (\n\u001b[0;32m    859\u001b[0m     disable_env_checker \u001b[38;5;129;01mis\u001b[39;00m \u001b[38;5;28;01mNone\u001b[39;00m \u001b[38;5;129;01mand\u001b[39;00m env_spec\u001b[38;5;241m.\u001b[39mdisable_env_checker \u001b[38;5;129;01mis\u001b[39;00m \u001b[38;5;28;01mFalse\u001b[39;00m\n\u001b[0;32m    860\u001b[0m ):\n\u001b[1;32m--> 861\u001b[0m     env \u001b[38;5;241m=\u001b[39m \u001b[43mgym\u001b[49m\u001b[38;5;241;43m.\u001b[39;49m\u001b[43mwrappers\u001b[49m\u001b[38;5;241;43m.\u001b[39;49m\u001b[43mPassiveEnvChecker\u001b[49m\u001b[43m(\u001b[49m\u001b[43menv\u001b[49m\u001b[43m)\u001b[49m\n\u001b[0;32m    863\u001b[0m \u001b[38;5;66;03m# Add the order enforcing wrapper\u001b[39;00m\n\u001b[0;32m    864\u001b[0m \u001b[38;5;28;01mif\u001b[39;00m env_spec\u001b[38;5;241m.\u001b[39morder_enforce:\n",
      "File \u001b[1;32m~\\anaconda3\\envs\\RL\\lib\\site-packages\\gymnasium\\wrappers\\env_checker.py:34\u001b[0m, in \u001b[0;36mPassiveEnvChecker.__init__\u001b[1;34m(self, env)\u001b[0m\n\u001b[0;32m     29\u001b[0m gym\u001b[38;5;241m.\u001b[39mWrapper\u001b[38;5;241m.\u001b[39m\u001b[38;5;21m__init__\u001b[39m(\u001b[38;5;28mself\u001b[39m, env)\n\u001b[0;32m     31\u001b[0m \u001b[38;5;28;01massert\u001b[39;00m \u001b[38;5;28mhasattr\u001b[39m(\n\u001b[0;32m     32\u001b[0m     env, \u001b[38;5;124m\"\u001b[39m\u001b[38;5;124maction_space\u001b[39m\u001b[38;5;124m\"\u001b[39m\n\u001b[0;32m     33\u001b[0m ), \u001b[38;5;124m\"\u001b[39m\u001b[38;5;124mThe environment must specify an action space. https://gymnasium.farama.org/tutorials/gymnasium_basics/environment_creation/\u001b[39m\u001b[38;5;124m\"\u001b[39m\n\u001b[1;32m---> 34\u001b[0m \u001b[43mcheck_action_space\u001b[49m\u001b[43m(\u001b[49m\u001b[43menv\u001b[49m\u001b[38;5;241;43m.\u001b[39;49m\u001b[43maction_space\u001b[49m\u001b[43m)\u001b[49m\n\u001b[0;32m     35\u001b[0m \u001b[38;5;28;01massert\u001b[39;00m \u001b[38;5;28mhasattr\u001b[39m(\n\u001b[0;32m     36\u001b[0m     env, \u001b[38;5;124m\"\u001b[39m\u001b[38;5;124mobservation_space\u001b[39m\u001b[38;5;124m\"\u001b[39m\n\u001b[0;32m     37\u001b[0m ), \u001b[38;5;124m\"\u001b[39m\u001b[38;5;124mThe environment must specify an observation space. https://gymnasium.farama.org/tutorials/gymnasium_basics/environment_creation/\u001b[39m\u001b[38;5;124m\"\u001b[39m\n\u001b[0;32m     38\u001b[0m check_observation_space(env\u001b[38;5;241m.\u001b[39mobservation_space)\n",
      "File \u001b[1;32m~\\anaconda3\\envs\\RL\\lib\\site-packages\\gymnasium\\utils\\passive_env_checker.py:68\u001b[0m, in \u001b[0;36mcheck_space\u001b[1;34m(space, space_type, check_box_space_fn)\u001b[0m\n\u001b[0;32m     66\u001b[0m \u001b[38;5;250m\u001b[39m\u001b[38;5;124;03m\"\"\"A passive check of the environment action space that should not affect the environment.\"\"\"\u001b[39;00m\n\u001b[0;32m     67\u001b[0m \u001b[38;5;28;01mif\u001b[39;00m \u001b[38;5;129;01mnot\u001b[39;00m \u001b[38;5;28misinstance\u001b[39m(space, spaces\u001b[38;5;241m.\u001b[39mSpace):\n\u001b[1;32m---> 68\u001b[0m     \u001b[38;5;28;01mraise\u001b[39;00m \u001b[38;5;167;01mAssertionError\u001b[39;00m(\n\u001b[0;32m     69\u001b[0m         \u001b[38;5;124mf\u001b[39m\u001b[38;5;124m\"\u001b[39m\u001b[38;5;132;01m{\u001b[39;00mspace_type\u001b[38;5;132;01m}\u001b[39;00m\u001b[38;5;124m space does not inherit from `gymnasium.spaces.Space`, actual type: \u001b[39m\u001b[38;5;132;01m{\u001b[39;00m\u001b[38;5;28mtype\u001b[39m(space)\u001b[38;5;132;01m}\u001b[39;00m\u001b[38;5;124m\"\u001b[39m\n\u001b[0;32m     70\u001b[0m     )\n\u001b[0;32m     72\u001b[0m \u001b[38;5;28;01melif\u001b[39;00m \u001b[38;5;28misinstance\u001b[39m(space, spaces\u001b[38;5;241m.\u001b[39mBox):\n\u001b[0;32m     73\u001b[0m     check_box_space_fn(space)\n",
      "\u001b[1;31mAssertionError\u001b[0m: action space does not inherit from `gymnasium.spaces.Space`, actual type: <class 'gym.spaces.discrete.Discrete'>"
     ]
    }
   ],
   "source": [
    "gym.register(\n",
    "    id = 'custom/MillingToolNUAA-v0',\n",
    "    entry_point = MillingToolEnv_NUAA,\n",
    "    max_episode_steps = MILLING_OPERATIONS_MAX,\n",
    ")\n",
    "\n",
    "# Vectorized environment: Use the `make_vec_env` helper function - make sure to pass `post_wrappers=[lambda env, _: RolloutInfoWrapper(env)]`\n",
    "env_kwargs = {'df':df_train, 'max_op_cycles':MILLING_OPERATIONS_MAX, 'tool_failure_thresholds':WEAR_THRESHOLD_NORMALIZED, \n",
    "              'tool_failure_times':TOOL_FAILURE_TIME}\n",
    "\n",
    "mt_venv_nuaa = make_vec_env(\n",
    "    'custom/MillingToolNUAA-v0',\n",
    "    env_make_kwargs=env_kwargs,\n",
    "    rng=np.random.default_rng(),\n",
    "    n_envs=1,\n",
    "    post_wrappers=[lambda mt_venv_nuaa, _: RolloutInfoWrapper(mt_venv_nuaa)],\n",
    ")"
   ]
  },
  {
   "cell_type": "markdown",
   "metadata": {},
   "source": [
    "### Create the Milling environent \n",
    "- Default method of creating is `env_mt = gym.make('custom/MillingTool-v0')`\n",
    "- This does **not** work with `imitation` IRL\n",
    "- Must create a vectorized env. using `make_vec_env` utility"
   ]
  },
  {
   "cell_type": "code",
   "execution_count": 96,
   "metadata": {},
   "outputs": [
    {
     "name": "stdout",
     "output_type": "stream",
     "text": [
      "\n",
      "\n",
      "** -- NUAA Milling Tool Wear environment. Error: NO TOOL WEAR DATA SUPPLIED !! -- **\n",
      "\n",
      "\n"
     ]
    },
    {
     "ename": "AttributeError",
     "evalue": "'MillingToolEnv_NUAA' object has no attribute 'df'",
     "output_type": "error",
     "traceback": [
      "\u001b[1;31m---------------------------------------------------------------------------\u001b[0m",
      "\u001b[1;31mAttributeError\u001b[0m                            Traceback (most recent call last)",
      "Cell \u001b[1;32mIn[96], line 5\u001b[0m\n\u001b[0;32m      1\u001b[0m \u001b[38;5;66;03m# Vectorized environment: Use the `make_vec_env` helper function - make sure to pass `post_wrappers=[lambda env, _: RolloutInfoWrapper(env)]`\u001b[39;00m\n\u001b[0;32m      2\u001b[0m env_kwargs \u001b[38;5;241m=\u001b[39m {\u001b[38;5;124m'\u001b[39m\u001b[38;5;124mdf\u001b[39m\u001b[38;5;124m'\u001b[39m:df_train, \u001b[38;5;124m'\u001b[39m\u001b[38;5;124mmax_op_cycles\u001b[39m\u001b[38;5;124m'\u001b[39m:MILLING_OPERATIONS_MAX, \u001b[38;5;124m'\u001b[39m\u001b[38;5;124mtool_failure_thresholds\u001b[39m\u001b[38;5;124m'\u001b[39m:WEAR_THRESHOLD_NORMALIZED, \n\u001b[0;32m      3\u001b[0m               \u001b[38;5;124m'\u001b[39m\u001b[38;5;124mtool_failure_times\u001b[39m\u001b[38;5;124m'\u001b[39m:TOOL_FAILURE_TIME}\n\u001b[1;32m----> 5\u001b[0m mt_venv \u001b[38;5;241m=\u001b[39m \u001b[43mmake_vec_env\u001b[49m\u001b[43m(\u001b[49m\n\u001b[0;32m      6\u001b[0m \u001b[43m    \u001b[49m\u001b[38;5;124;43m'\u001b[39;49m\u001b[38;5;124;43mcustom/MillingToolNUAA-v0\u001b[39;49m\u001b[38;5;124;43m'\u001b[39;49m\u001b[43m,\u001b[49m\n\u001b[0;32m      7\u001b[0m \u001b[43m    \u001b[49m\u001b[43menv_make_kwargs\u001b[49m\u001b[38;5;241;43m=\u001b[39;49m\u001b[43menv_kwargs\u001b[49m\u001b[43m,\u001b[49m\n\u001b[0;32m      8\u001b[0m \u001b[43m    \u001b[49m\u001b[43mrng\u001b[49m\u001b[38;5;241;43m=\u001b[39;49m\u001b[43mnp\u001b[49m\u001b[38;5;241;43m.\u001b[39;49m\u001b[43mrandom\u001b[49m\u001b[38;5;241;43m.\u001b[39;49m\u001b[43mdefault_rng\u001b[49m\u001b[43m(\u001b[49m\u001b[43m)\u001b[49m\u001b[43m,\u001b[49m\n\u001b[0;32m      9\u001b[0m \u001b[43m    \u001b[49m\u001b[43mn_envs\u001b[49m\u001b[38;5;241;43m=\u001b[39;49m\u001b[38;5;241;43m1\u001b[39;49m\u001b[43m,\u001b[49m\n\u001b[0;32m     10\u001b[0m \u001b[43m    \u001b[49m\u001b[43mpost_wrappers\u001b[49m\u001b[38;5;241;43m=\u001b[39;49m\u001b[43m[\u001b[49m\u001b[38;5;28;43;01mlambda\u001b[39;49;00m\u001b[43m \u001b[49m\u001b[43mmt_venv\u001b[49m\u001b[43m,\u001b[49m\u001b[43m \u001b[49m\u001b[43m_\u001b[49m\u001b[43m:\u001b[49m\u001b[43m \u001b[49m\u001b[43mRolloutInfoWrapper\u001b[49m\u001b[43m(\u001b[49m\u001b[43mmt_venv\u001b[49m\u001b[43m)\u001b[49m\u001b[43m]\u001b[49m\u001b[43m,\u001b[49m\n\u001b[0;32m     11\u001b[0m \u001b[43m)\u001b[49m\n\u001b[0;32m     13\u001b[0m \u001b[38;5;66;03m# Load the wear data dataframe\u001b[39;00m\n\u001b[0;32m     14\u001b[0m \u001b[38;5;66;03m# mt_venv.load_df(df=df_train)\u001b[39;00m\n",
      "File \u001b[1;32m~\\anaconda3\\envs\\RL\\lib\\site-packages\\imitation\\util\\util.py:117\u001b[0m, in \u001b[0;36mmake_vec_env\u001b[1;34m(env_name, rng, n_envs, parallel, log_dir, max_episode_steps, post_wrappers, env_make_kwargs)\u001b[0m\n\u001b[0;32m     91\u001b[0m \u001b[38;5;250m\u001b[39m\u001b[38;5;124;03m\"\"\"Makes a vectorized environment.\u001b[39;00m\n\u001b[0;32m     92\u001b[0m \n\u001b[0;32m     93\u001b[0m \u001b[38;5;124;03mArgs:\u001b[39;00m\n\u001b[1;32m   (...)\u001b[0m\n\u001b[0;32m    112\u001b[0m \u001b[38;5;124;03m    A VecEnv initialized with `n_envs` environments.\u001b[39;00m\n\u001b[0;32m    113\u001b[0m \u001b[38;5;124;03m\"\"\"\u001b[39;00m\n\u001b[0;32m    114\u001b[0m \u001b[38;5;66;03m# Resolve the spec outside of the subprocess first, so that it is available to\u001b[39;00m\n\u001b[0;32m    115\u001b[0m \u001b[38;5;66;03m# subprocesses running `make_env` via automatic pickling.\u001b[39;00m\n\u001b[0;32m    116\u001b[0m \u001b[38;5;66;03m# Just to ensure packages are imported and spec is properly resolved\u001b[39;00m\n\u001b[1;32m--> 117\u001b[0m tmp_env \u001b[38;5;241m=\u001b[39m \u001b[43mgym\u001b[49m\u001b[38;5;241;43m.\u001b[39;49m\u001b[43mmake\u001b[49m\u001b[43m(\u001b[49m\u001b[43menv_name\u001b[49m\u001b[43m)\u001b[49m\n\u001b[0;32m    118\u001b[0m tmp_env\u001b[38;5;241m.\u001b[39mclose()\n\u001b[0;32m    119\u001b[0m spec \u001b[38;5;241m=\u001b[39m tmp_env\u001b[38;5;241m.\u001b[39mspec\n",
      "File \u001b[1;32m~\\anaconda3\\envs\\RL\\lib\\site-packages\\gymnasium\\envs\\registration.py:802\u001b[0m, in \u001b[0;36mmake\u001b[1;34m(id, max_episode_steps, autoreset, apply_api_compatibility, disable_env_checker, **kwargs)\u001b[0m\n\u001b[0;32m    799\u001b[0m     render_mode \u001b[38;5;241m=\u001b[39m \u001b[38;5;28;01mNone\u001b[39;00m\n\u001b[0;32m    801\u001b[0m \u001b[38;5;28;01mtry\u001b[39;00m:\n\u001b[1;32m--> 802\u001b[0m     env \u001b[38;5;241m=\u001b[39m env_creator(\u001b[38;5;241m*\u001b[39m\u001b[38;5;241m*\u001b[39menv_spec_kwargs)\n\u001b[0;32m    803\u001b[0m \u001b[38;5;28;01mexcept\u001b[39;00m \u001b[38;5;167;01mTypeError\u001b[39;00m \u001b[38;5;28;01mas\u001b[39;00m e:\n\u001b[0;32m    804\u001b[0m     \u001b[38;5;28;01mif\u001b[39;00m (\n\u001b[0;32m    805\u001b[0m         \u001b[38;5;28mstr\u001b[39m(e)\u001b[38;5;241m.\u001b[39mfind(\u001b[38;5;124m\"\u001b[39m\u001b[38;5;124mgot an unexpected keyword argument \u001b[39m\u001b[38;5;124m'\u001b[39m\u001b[38;5;124mrender_mode\u001b[39m\u001b[38;5;124m'\u001b[39m\u001b[38;5;124m\"\u001b[39m) \u001b[38;5;241m>\u001b[39m\u001b[38;5;241m=\u001b[39m \u001b[38;5;241m0\u001b[39m\n\u001b[0;32m    806\u001b[0m         \u001b[38;5;129;01mand\u001b[39;00m apply_human_rendering\n\u001b[0;32m    807\u001b[0m     ):\n",
      "Cell \u001b[1;32mIn[88], line 46\u001b[0m, in \u001b[0;36mMillingToolEnv_NUAA.__init__\u001b[1;34m(self, df, max_op_cycles, tool_failure_thresholds, tool_failure_times)\u001b[0m\n\u001b[0;32m     44\u001b[0m \u001b[38;5;28mself\u001b[39m\u001b[38;5;241m.\u001b[39mtool_failure_thresholds \u001b[38;5;241m=\u001b[39m tool_failure_thresholds \u001b[38;5;66;03m# Product quality unacceptable - must replace\u001b[39;00m\n\u001b[0;32m     45\u001b[0m \u001b[38;5;28mself\u001b[39m\u001b[38;5;241m.\u001b[39mtool_failure_times \u001b[38;5;241m=\u001b[39m tool_failure_times\n\u001b[1;32m---> 46\u001b[0m \u001b[38;5;28mself\u001b[39m\u001b[38;5;241m.\u001b[39mrul \u001b[38;5;241m=\u001b[39m \u001b[38;5;28;43mself\u001b[39;49m\u001b[38;5;241;43m.\u001b[39;49m\u001b[43mdf\u001b[49m\u001b[38;5;241m.\u001b[39mloc[\u001b[38;5;28mself\u001b[39m\u001b[38;5;241m.\u001b[39mcurrent_time_step, \u001b[38;5;124m'\u001b[39m\u001b[38;5;124mRUL\u001b[39m\u001b[38;5;124m'\u001b[39m]   \u001b[38;5;66;03m# Initial RUL, this will be DECREMENTED every step. Also the DONE condition\u001b[39;00m\n\u001b[0;32m     47\u001b[0m \u001b[38;5;66;03m# self.rul = self.starting_rul \u001b[39;00m\n\u001b[0;32m     48\u001b[0m \u001b[38;5;28mself\u001b[39m\u001b[38;5;241m.\u001b[39mtime_at_replacement \u001b[38;5;241m=\u001b[39m \u001b[38;5;241m0\u001b[39m\n",
      "\u001b[1;31mAttributeError\u001b[0m: 'MillingToolEnv_NUAA' object has no attribute 'df'"
     ]
    }
   ],
   "source": [
    "# Vectorized environment: Use the `make_vec_env` helper function - make sure to pass `post_wrappers=[lambda env, _: RolloutInfoWrapper(env)]`\n",
    "env_kwargs = {'df':df_train, 'max_op_cycles':MILLING_OPERATIONS_MAX, 'tool_failure_thresholds':WEAR_THRESHOLD_NORMALIZED, \n",
    "              'tool_failure_times':TOOL_FAILURE_TIME}\n",
    "\n",
    "mt_venv = make_vec_env(\n",
    "    'custom/MillingToolNUAA-v0',\n",
    "    env_make_kwargs=env_kwargs,\n",
    "    rng=np.random.default_rng(),\n",
    "    n_envs=1,\n",
    "    post_wrappers=[lambda mt_venv, _: RolloutInfoWrapper(mt_venv)],\n",
    ")\n",
    "\n",
    "# Load the wear data dataframe\n",
    "# mt_venv.load_df(df=df_train)"
   ]
  },
  {
   "cell_type": "markdown",
   "metadata": {},
   "source": [
    "## 2. The \"Human\" Expert (here we create one)"
   ]
  },
  {
   "cell_type": "code",
   "execution_count": 6,
   "metadata": {},
   "outputs": [],
   "source": [
    "# expert_a2c = A2C('MlpPolicy', env_mt)\n",
    "# expert_a2c.learn(total_timesteps=EPISODES)"
   ]
  },
  {
   "cell_type": "code",
   "execution_count": 7,
   "metadata": {},
   "outputs": [
    {
     "data": {
      "text/plain": [
       "<stable_baselines3.ppo.ppo.PPO at 0x26cd6a387c0>"
      ]
     },
     "execution_count": 7,
     "metadata": {},
     "output_type": "execute_result"
    }
   ],
   "source": [
    "expert_ppo = PPO(\n",
    "    policy = MlpPolicy,\n",
    "    env = mt_venv,\n",
    "    # seed = 0,\n",
    "    batch_size = 64,\n",
    "    ent_coef = 0.0,\n",
    "    learning_rate = LEARNING_RATE,\n",
    "    n_epochs = 10,\n",
    "    n_steps = 64,\n",
    "    tensorboard_log=LOG_PATH,\n",
    ")\n",
    "\n",
    "expert_ppo.learn(EPISODES) "
   ]
  },
  {
   "cell_type": "markdown",
   "metadata": {},
   "source": [
    "Check PPO Expert reward"
   ]
  },
  {
   "cell_type": "code",
   "execution_count": 8,
   "metadata": {},
   "outputs": [
    {
     "name": "stdout",
     "output_type": "stream",
     "text": [
      "PPO Expert reward: 8999.899999999998\n"
     ]
    }
   ],
   "source": [
    "reward, _ = evaluate_policy(expert_ppo, mt_venv, EVALUATION_ROUNDS)\n",
    "print(f'PPO Expert reward: {reward}')\n",
    "\n",
    "# reward, _ = evaluate_policy(expert_a2c, env_mt, 10)\n",
    "# print(reward)"
   ]
  },
  {
   "cell_type": "markdown",
   "metadata": {},
   "source": [
    "## 3. Demonstrations from the the Expert\n",
    "\n",
    "- Use the expert to sample some trajectories.\n",
    "- Flatten them to obtain individual transitions for behavior cloning\n",
    "\n",
    "#### Implementation details: \n",
    "- Use `imitation` utilities - Collect 50 episode rollouts, then flatten them to just the transitions that we need for training.\n",
    "- `rollout` function requires a vectorized environment and needs the `RolloutInfoWrapper` around each of the environments\n",
    "- This is why we passed the `post_wrappers` argument to `make_vec_env` above."
   ]
  },
  {
   "cell_type": "code",
   "execution_count": 9,
   "metadata": {},
   "outputs": [],
   "source": [
    "rng = np.random.default_rng()\n",
    "\n",
    "rollouts = rollout.rollout(\n",
    "    expert_ppo,\n",
    "    mt_venv,\n",
    "    rollout.make_sample_until(min_timesteps=None, min_episodes=SAMPLE_DEMONSTRATIONS),\n",
    "    rng = rng,\n",
    ")\n",
    "\n",
    "transitions = rollout.flatten_trajectories(rollouts)"
   ]
  },
  {
   "cell_type": "markdown",
   "metadata": {},
   "source": [
    "Let's have a quick look at what we just generated using those library functions:\n",
    "\n",
    "```print(f\"\"\"The `rollout` function generated a list of {len(rollouts)} {type(rollouts[0])}.\n",
    "After flattening, this list is turned into a {type(transitions)} object containing {len(transitions)} transitions.\n",
    "The transitions object contains arrays for: {', '.join(transitions.__dict__.keys())}.\"\n",
    "\"\"\")```"
   ]
  },
  {
   "cell_type": "code",
   "execution_count": 10,
   "metadata": {},
   "outputs": [
    {
     "data": {
      "text/plain": [
       "[<matplotlib.lines.Line2D at 0x26c9c1372b0>,\n",
       " <matplotlib.lines.Line2D at 0x26c9c137310>]"
      ]
     },
     "execution_count": 10,
     "metadata": {},
     "output_type": "execute_result"
    },
    {
     "data": {
      "image/png": "[encoded data removed]",
      "text/plain": [
       "<Figure size 800x200 with 1 Axes>"
      ]
     },
     "metadata": {},
     "output_type": "display_data"
    },
    {
     "data": {
      "image/png": "[encoded data removed]",
      "text/plain": [
       "<Figure size 800x200 with 1 Axes>"
      ]
     },
     "metadata": {},
     "output_type": "display_data"
    }
   ],
   "source": [
    "import matplotlib.pyplot as plt\n",
    "obsvs = []\n",
    "acts = []\n",
    "\n",
    "for n in range(len(rollouts)):\n",
    "    acts.append(transitions.acts[n])\n",
    "    obsvs.append(transitions.obs[n])\n",
    "\n",
    "plt.figure(figsize=(8, 2))\n",
    "plt.title('Expert Actions')\n",
    "plt.plot(acts)\n",
    "\n",
    "plt.figure(figsize=(8, 2))\n",
    "plt.title('Sampled Observations')\n",
    "plt.plot(obsvs)"
   ]
  },
  {
   "cell_type": "markdown",
   "metadata": {},
   "source": [
    "After we collected our transitions, it's time to set up our behavior cloning algorithm."
   ]
  },
  {
   "cell_type": "code",
   "execution_count": 11,
   "metadata": {},
   "outputs": [],
   "source": [
    "from imitation.algorithms import bc\n",
    "from imitation.util import logger as imit_logger\n",
    "\n",
    "# Set new logger\n",
    "tmp_path_irl = f'{PATH}/tensorboard/irl_log/BC/'\n",
    "new_logger_irl = imit_logger.configure(tmp_path_irl, [\"stdout\", \"csv\", \"tensorboard\"])\n",
    "\n",
    "bc_trainer = bc.BC(\n",
    "    observation_space=mt_venv.observation_space,\n",
    "    action_space=mt_venv.action_space,\n",
    "    demonstrations=transitions,\n",
    "    batch_size=BATCH_SIZE,\n",
    "    rng=rng,\n",
    "    device='cpu',\n",
    "    custom_logger = new_logger_irl\n",
    ")"
   ]
  },
  {
   "cell_type": "markdown",
   "metadata": {},
   "source": [
    "As you can see the untrained policy only gets poor rewards:"
   ]
  },
  {
   "cell_type": "code",
   "execution_count": 12,
   "metadata": {},
   "outputs": [
    {
     "name": "stdout",
     "output_type": "stream",
     "text": [
      "Reward before training: -405.000\n"
     ]
    }
   ],
   "source": [
    "reward_before_training, _ = evaluate_policy(bc_trainer.policy, mt_venv, EVALUATION_ROUNDS)\n",
    "print(f\"Reward before training: {reward_before_training: 4.3f}\")"
   ]
  },
  {
   "cell_type": "markdown",
   "metadata": {},
   "source": [
    "## 4. Behavioural Cloning (BC) based learning from expert demonstrations"
   ]
  },
  {
   "cell_type": "code",
   "execution_count": 13,
   "metadata": {},
   "outputs": [
    {
     "name": "stderr",
     "output_type": "stream",
     "text": [
      "0batch [00:00, ?batch/s]"
     ]
    },
    {
     "name": "stdout",
     "output_type": "stream",
     "text": [
      "---------------------------------\n",
      "| batch_size        | 16        |\n",
      "| bc/               |           |\n",
      "|    batch          | 0         |\n",
      "|    ent_loss       | -0.000693 |\n",
      "|    entropy        | 0.693     |\n",
      "|    epoch          | 0         |\n",
      "|    l2_loss        | 0         |\n",
      "|    l2_norm        | 68.5      |\n",
      "|    loss           | 0.692     |\n",
      "|    neglogp        | 0.693     |\n",
      "|    prob_true_act  | 0.5       |\n",
      "|    samples_so_far | 16        |\n",
      "---------------------------------\n"
     ]
    },
    {
     "name": "stderr",
     "output_type": "stream",
     "text": [
      "477batch [00:01, 379.37batch/s]"
     ]
    },
    {
     "name": "stdout",
     "output_type": "stream",
     "text": [
      "---------------------------------\n",
      "| batch_size        | 16        |\n",
      "| bc/               |           |\n",
      "|    batch          | 500       |\n",
      "|    ent_loss       | -0.000693 |\n",
      "|    entropy        | 0.693     |\n",
      "|    epoch          | 0         |\n",
      "|    l2_loss        | 0         |\n",
      "|    l2_norm        | 67.9      |\n",
      "|    loss           | 0.693     |\n",
      "|    neglogp        | 0.694     |\n",
      "|    prob_true_act  | 0.5       |\n",
      "|    samples_so_far | 8016      |\n",
      "---------------------------------\n"
     ]
    },
    {
     "name": "stderr",
     "output_type": "stream",
     "text": [
      "907batch [00:02, 378.86batch/s]\n",
      "937batch [00:02, 372.61batch/s]\u001b[A\n"
     ]
    }
   ],
   "source": [
    "bc_trainer.train(n_epochs=1)"
   ]
  },
  {
   "cell_type": "code",
   "execution_count": 14,
   "metadata": {},
   "outputs": [
    {
     "name": "stdout",
     "output_type": "stream",
     "text": [
      "------------------------------------------------------------------------------------------------------------------------\n",
      " **** IRL with Imitation Libraries and Milling environment ****\n",
      "------------------------------------------------------------------------------------------------------------------------\n",
      "28-Jul-2024  20:38:28\n",
      "Episodes: 200\n",
      "Rewards Before: -405.000 | After: 8999.900\n"
     ]
    }
   ],
   "source": [
    "now = datetime.now()\n",
    "dt_string = now.strftime(\"%d-%b-%Y  %H:%M:%S\")\n",
    "reward_after_training, _ = evaluate_policy(bc_trainer.policy, mt_venv, EVALUATION_ROUNDS)\n",
    "\n",
    "print('-'*120)\n",
    "print(' **** IRL with Imitation Libraries and Milling environment ****')\n",
    "print('-'*120)\n",
    "\n",
    "print(dt_string)\n",
    "print(f'Episodes: {EPISODES}')\n",
    "print(f'Rewards Before: {reward_before_training:5.3f} | After: {reward_after_training:5.3f}')\n",
    "# print(f'Training time: {elapsed_time:5.3f} seconds')"
   ]
  },
  {
   "cell_type": "code",
   "execution_count": 16,
   "metadata": {},
   "outputs": [],
   "source": [
    "from imitation.algorithms import sqil\n",
    "from imitation.util import logger as imit_logger\n",
    "\n",
    "# Set new logger\n",
    "tmp_path_irl = f'{PATH}/tensorboard/irl_log/SQIL/'\n",
    "new_logger_irl = imit_logger.configure(tmp_path_irl, [\"stdout\", \"csv\", \"tensorboard\"])\n",
    "\n",
    "sqil_trainer = sqil.SQIL(   \n",
    "    venv = mt_venv,\n",
    "    demonstrations = transitions,\n",
    "    policy='MlpPolicy',\n",
    "    # device='cpu',\n",
    "    custom_logger = new_logger_irl\n",
    ")"
   ]
  },
  {
   "cell_type": "code",
   "execution_count": 18,
   "metadata": {},
   "outputs": [
    {
     "name": "stdout",
     "output_type": "stream",
     "text": [
      "Reward before training: -903.0\n"
     ]
    }
   ],
   "source": [
    "from stable_baselines3.common.evaluation import evaluate_policy\n",
    "\n",
    "reward_before_training, _ = evaluate_policy(sqil_trainer.policy, mt_venv, 10)\n",
    "print(f\"Reward before training: {reward_before_training}\")"
   ]
  },
  {
   "cell_type": "code",
   "execution_count": 22,
   "metadata": {},
   "outputs": [
    {
     "name": "stdout",
     "output_type": "stream",
     "text": [
      "Reward after training: 466.71600000000007\n"
     ]
    }
   ],
   "source": [
    "sqil_trainer.train(\n",
    "    total_timesteps = 10_000, # Note: set to 1_000_000 to obtain good results\n",
    ")  \n",
    "reward_after_training, _ = evaluate_policy(sqil_trainer.policy, mt_venv, 10)\n",
    "print(f\"Reward after training: {reward_after_training:5.3f\")"
   ]
  },
  {
   "cell_type": "code",
   "execution_count": null,
   "metadata": {},
   "outputs": [],
   "source": [
    "# sqil_trainer.train(\n",
    "#     total_timesteps=1_000_000, # Note: set to 1_000_000 to obtain good results\n",
    "# )  \n",
    "# reward_after_training, _ = evaluate_policy(sqil_trainer.policy, mt_venv, 10)\n",
    "# print(f\"Reward after training: {reward_after_training}\")"
   ]
  }
 ],
 "metadata": {
  "interpreter": {
   "hash": "bd378ce8f53beae712f05342da42c6a7612fc68b19bea03b52c7b1cdc8851b5f"
  },
  "kernelspec": {
   "display_name": "Python 3 (ipykernel)",
   "language": "python",
   "name": "python3"
  },
  "language_info": {
   "codemirror_mode": {
    "name": "ipython",
    "version": 3
   },
   "file_extension": ".py",
   "mimetype": "text/x-python",
   "name": "python",
   "nbconvert_exporter": "python",
   "pygments_lexer": "ipython3",
   "version": "3.10.11"
  }
 },
 "nbformat": 4,
 "nbformat_minor": 4
}
